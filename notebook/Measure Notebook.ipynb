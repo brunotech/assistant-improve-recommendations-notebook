{
  "nbformat": 4,
  "nbformat_minor": 0,
  "metadata": {
    "kernelspec": {
      "display_name": "Python 3",
      "language": "python",
      "name": "python3"
    },
    "language_info": {
      "codemirror_mode": {
        "name": "ipython",
        "version": 3
      },
      "file_extension": ".py",
      "mimetype": "text/x-python",
      "name": "python",
      "nbconvert_exporter": "python",
      "pygments_lexer": "ipython3",
      "version": "3.6.8"
    },
    "colab": {
      "name": "Measure Notebook.ipynb",
      "provenance": []
    }
  },
  "cells": [
    {
      "cell_type": "markdown",
      "metadata": {
        "id": "RMqD9zbtTxc-",
        "colab_type": "text"
      },
      "source": [
        "# Measure Watson Assistant Performance\n",
        "\n",
        "<img src=\"https://raw.githubusercontent.com/watson-developer-cloud/assistant-improve-recommendations-notebook/master/notebook/imgs/measure_process.png\" alt=\"Measure Process\" width=\"600\"/>\n",
        "\n",
        "## Introduction\n",
        "\n",
        "This notebook demonstrates how to setup automated metrics that help you measure, monitor, and understand the behavior of your Watson Assistant system. As described in <a href=\"https://github.com/watson-developer-cloud/assistant-improve-recommendations-notebook/raw/master/notebook/IBM%20Watson%20Assistant%20Continuous%20Improvement%20Best%20Practices.pdf\" target=\"_blank\" rel=\"noopener noreferrer\">Watson Assistant Continuous Improvement Best Practices</a>, this is the first step of your continuous improvement process. The goal of this step is to understand where your assistant is doing well vs where it isn’t and to potentially focus your improvement effort to one of the problem areas identified. We define two measures to achieve this goal: **Coverage** and **Effectiveness**.\n",
        "\n",
        "- **Coverage** is the portion of total user messages your assistant is attempting to respond to.\n",
        "\n",
        "- **Effectiveness** refers to how well your assistant is handling the conversations it is attempting to respond to.\n",
        "\n",
        "The pre-requisite for running this notebook is Watson Assistant (formerly Watson Conversation). This notebook assumes familiarity with Watson Assistant and concepts such as workspaces, intents and training examples. \n",
        "\n",
        "### Programming language and environment\n",
        "Some familiarity with Python is recommended. This notebook runs on Python 3.5+ environment.\n"
      ]
    },
    {
      "cell_type": "markdown",
      "metadata": {
        "id": "lIyuHat7TxdA",
        "colab_type": "text"
      },
      "source": [
        "## Table of contents\n",
        "1. [Configuration and setup](#setup)<br>\n",
        "    1.1 [Import and apply global CSS styles](#css)<br>\n",
        "    1.2 [Install required Python libraries](#python)<br>\n",
        "    1.3 [Import functions used in the notebook](#function)<br>\n",
        "2. [Load and format data](#load)<br>\n",
        "    2.1 [Option one: from a Watson Assistant instance](#load_remote)<br>\n",
        "    2.2 [Option two: from JSON files](#load_local)<br>\n",
        "    2.3 [Format the log data](#format_data)<br>\n",
        "3. [Define coverage and effectiveness metrics](#set_metrics)<br>\n",
        "    3.1 [Customize coverage](#set_coverage)<br>\n",
        "    3.2 [Customize effectiveness](#set_effectiveness)<br>\n",
        "4. [Calculate overall coverage and effectiveness](#overall)<br>\n",
        "    4.1 [Calculate overall metrics](#overall1)<br>\n",
        "    4.2 [Display overall results](#overall2)<br>\n",
        "5. [Analyze coverage](#msg_analysis)<br>\n",
        "    5.1 [Display overall coverage](#msg_analysis1)<br>\n",
        "    5.2 [Calculate coverage over time](#msg_analysis2)<br>\n",
        "6. [Analyze effectiveness](#conv_analysis)<br>\n",
        "    6.1 [Generate excel file and upload to our project](#conv_analysis1)<br>\n",
        "    6.2 [Plot breakdown by effectiveness graph](#conv_analysis2)<br>\n",
        "7. [Root cause analysis of non coverage](#root_cause)<br>\n",
        "8. [Abandoned and resolved intent analysis](#abandoned_resolved_intents)<br>\n",
        "    8.1 [Count of all started intents](#started_intents)<br>\n",
        "    8.2 [Analyze resolved intents](#resolved_intents)<br>\n",
        "    8.3 [Analyze abandoned intents](#abandoned_intents)<br>\n",
        "9. [Summary and next steps](#summary)<br>"
      ]
    },
    {
      "cell_type": "markdown",
      "metadata": {
        "id": "YlB412UfTxdB",
        "colab_type": "text"
      },
      "source": [
        "<a id=\"setup\"></a>\n",
        "## 1. Configuration and Setup\n",
        "\n",
        "In this section, we add data and workspace access credentials, import required libraries and functions."
      ]
    },
    {
      "cell_type": "markdown",
      "metadata": {
        "id": "fn_-NP9PTxdC",
        "colab_type": "text"
      },
      "source": [
        "### <a id=\"css\"></a> 1.1 Import and apply global CSS styles"
      ]
    },
    {
      "cell_type": "code",
      "metadata": {
        "id": "r7H3IfavTxdD",
        "colab_type": "code",
        "colab": {},
        "outputId": "737b159b-004c-4723-a8d7-88660bd5819b"
      },
      "source": [
        "from IPython.display import HTML\n",
        "!curl -O https://raw.githubusercontent.com/watson-developer-cloud/assistant-improve-recommendations-notebook/master/src/main/css/custom.css\n",
        "HTML(open('custom.css', 'r').read())"
      ],
      "execution_count": 0,
      "outputs": [
        {
          "output_type": "stream",
          "text": [
            "  % Total    % Received % Xferd  Average Speed   Time    Time     Time  Current\n",
            "                                 Dload  Upload   Total   Spent    Left  Speed\n",
            "100   348  100   348    0     0    348      0  0:00:01 --:--:--  0:00:01  2503\n"
          ],
          "name": "stdout"
        },
        {
          "output_type": "execute_result",
          "data": {
            "text/html": [
              "<style>\n",
              "    h1 {\n",
              "        font-family: \"HelveticaNeue-Light\", \"Helvetica Neue Light\", \"Helvetica Neue\";\n",
              "    }\n",
              "    div.text_cell_render{\n",
              "        font-family: \"HelveticaNeue-Light\", \"Helvetica Neue Light\", \"Helvetica Neue\";\n",
              "        line-height: 145%;\n",
              "        font-size: 120%;\n",
              "    }\n",
              "    .warning{\n",
              "        color: rgb( 240, 20, 20 )\n",
              "        }  \n",
              "</style>\n"
            ],
            "text/plain": [
              "<IPython.core.display.HTML object>"
            ]
          },
          "metadata": {
            "tags": []
          },
          "execution_count": 1
        }
      ]
    },
    {
      "cell_type": "markdown",
      "metadata": {
        "id": "R0jdtf5nTxdS",
        "colab_type": "text"
      },
      "source": [
        "### <a id=\"python\"></a> 1.2 Install required Python libraries"
      ]
    },
    {
      "cell_type": "code",
      "metadata": {
        "scrolled": true,
        "id": "IqK34PggTxdT",
        "colab_type": "code",
        "colab": {},
        "outputId": "16d1a0f4-acc1-4f74-d113-bfe5bd829846"
      },
      "source": [
        "# Install watson-developer-cloud python SDK and required libraries\n",
        "# After running this cell once, comment out the following code. Packages only need to be installed once.\n",
        "!pip3 install --user --upgrade \"ibm-watson==4.1.0\";\n",
        "!pip3 install --user --upgrade \"pandas==1.0.3\";\n",
        "!pip3 install --user --upgrade \"matplotlib==3.2.1\";\n",
        "!pip3 install --user --upgrade \"numpy==1.18.2\";\n",
        "!pip3 install --user --upgrade \"XlsxWriter==1.2.8\";\n",
        "!pip3 install --user --upgrade \"bokeh==2.0.0\";\n",
        "\n",
        "# Import required libraries\n",
        "import pandas as pd\n",
        "import json\n",
        "from pandas import json_normalize\n",
        "from ibm_watson import AssistantV1\n",
        "from IPython.display import display"
      ],
      "execution_count": 0,
      "outputs": [
        {
          "output_type": "stream",
          "text": [
            "Requirement already up-to-date: ibm-watson==4.1.0 in /Users/zhezhang/.local/lib/python3.6/site-packages (4.1.0)\n",
            "Requirement already satisfied, skipping upgrade: python-dateutil>=2.5.3 in /Users/zhezhang/.local/lib/python3.6/site-packages (from ibm-watson==4.1.0) (2.8.1)\n",
            "Requirement already satisfied, skipping upgrade: websocket-client==0.48.0 in /Users/zhezhang/.local/lib/python3.6/site-packages (from ibm-watson==4.1.0) (0.48.0)\n",
            "Requirement already satisfied, skipping upgrade: requests<3.0,>=2.0 in /Users/zhezhang/.local/lib/python3.6/site-packages (from ibm-watson==4.1.0) (2.22.0)\n",
            "Requirement already satisfied, skipping upgrade: ibm-cloud-sdk-core==1.0.0 in /Users/zhezhang/.local/lib/python3.6/site-packages (from ibm-watson==4.1.0) (1.0.0)\n",
            "Requirement already satisfied, skipping upgrade: six>=1.5 in /Users/zhezhang/.local/lib/python3.6/site-packages (from python-dateutil>=2.5.3->ibm-watson==4.1.0) (1.14.0)\n",
            "Requirement already satisfied, skipping upgrade: chardet<3.1.0,>=3.0.2 in /Users/zhezhang/.local/lib/python3.6/site-packages (from requests<3.0,>=2.0->ibm-watson==4.1.0) (3.0.4)\n",
            "Requirement already satisfied, skipping upgrade: certifi>=2017.4.17 in /Users/zhezhang/.local/lib/python3.6/site-packages (from requests<3.0,>=2.0->ibm-watson==4.1.0) (2019.11.28)\n",
            "Requirement already satisfied, skipping upgrade: idna<2.9,>=2.5 in /Users/zhezhang/.local/lib/python3.6/site-packages (from requests<3.0,>=2.0->ibm-watson==4.1.0) (2.8)\n",
            "Requirement already satisfied, skipping upgrade: urllib3!=1.25.0,!=1.25.1,<1.26,>=1.21.1 in /Users/zhezhang/.local/lib/python3.6/site-packages (from requests<3.0,>=2.0->ibm-watson==4.1.0) (1.25.8)\n",
            "Requirement already satisfied, skipping upgrade: PyJWT>=1.7.1 in /Users/zhezhang/.local/lib/python3.6/site-packages (from ibm-cloud-sdk-core==1.0.0->ibm-watson==4.1.0) (1.7.1)\n",
            "\u001b[33mYou are using pip version 18.1, however version 20.0.2 is available.\n",
            "You should consider upgrading via the 'pip install --upgrade pip' command.\u001b[0m\n",
            "Requirement already up-to-date: pandas==1.0.3 in /Users/zhezhang/.local/lib/python3.6/site-packages (1.0.3)\n",
            "Requirement already satisfied, skipping upgrade: pytz>=2017.2 in /Users/zhezhang/.pyenv/versions/3.6.8/lib/python3.6/site-packages (from pandas==1.0.3) (2019.3)\n",
            "Requirement already satisfied, skipping upgrade: python-dateutil>=2.6.1 in /Users/zhezhang/.local/lib/python3.6/site-packages (from pandas==1.0.3) (2.8.1)\n",
            "Requirement already satisfied, skipping upgrade: numpy>=1.13.3 in /Users/zhezhang/.local/lib/python3.6/site-packages (from pandas==1.0.3) (1.18.2)\n",
            "Requirement already satisfied, skipping upgrade: six>=1.5 in /Users/zhezhang/.local/lib/python3.6/site-packages (from python-dateutil>=2.6.1->pandas==1.0.3) (1.14.0)\n",
            "\u001b[33mYou are using pip version 18.1, however version 20.0.2 is available.\n",
            "You should consider upgrading via the 'pip install --upgrade pip' command.\u001b[0m\n",
            "Requirement already up-to-date: matplotlib==3.2.1 in /Users/zhezhang/.local/lib/python3.6/site-packages (3.2.1)\n",
            "Requirement already satisfied, skipping upgrade: cycler>=0.10 in /Users/zhezhang/.pyenv/versions/3.6.8/lib/python3.6/site-packages (from matplotlib==3.2.1) (0.10.0)\n",
            "Requirement already satisfied, skipping upgrade: kiwisolver>=1.0.1 in /Users/zhezhang/.pyenv/versions/3.6.8/lib/python3.6/site-packages (from matplotlib==3.2.1) (1.1.0)\n",
            "Requirement already satisfied, skipping upgrade: numpy>=1.11 in /Users/zhezhang/.local/lib/python3.6/site-packages (from matplotlib==3.2.1) (1.18.2)\n",
            "Requirement already satisfied, skipping upgrade: pyparsing!=2.0.4,!=2.1.2,!=2.1.6,>=2.0.1 in /Users/zhezhang/.pyenv/versions/3.6.8/lib/python3.6/site-packages (from matplotlib==3.2.1) (2.4.6)\n",
            "Requirement already satisfied, skipping upgrade: python-dateutil>=2.1 in /Users/zhezhang/.local/lib/python3.6/site-packages (from matplotlib==3.2.1) (2.8.1)\n",
            "Requirement already satisfied, skipping upgrade: six in /Users/zhezhang/.local/lib/python3.6/site-packages (from cycler>=0.10->matplotlib==3.2.1) (1.14.0)\n",
            "Requirement already satisfied, skipping upgrade: setuptools in /Users/zhezhang/.pyenv/versions/3.6.8/lib/python3.6/site-packages (from kiwisolver>=1.0.1->matplotlib==3.2.1) (40.6.2)\n",
            "\u001b[33mYou are using pip version 18.1, however version 20.0.2 is available.\n",
            "You should consider upgrading via the 'pip install --upgrade pip' command.\u001b[0m\n",
            "Requirement already up-to-date: numpy==1.18.2 in /Users/zhezhang/.local/lib/python3.6/site-packages (1.18.2)\n",
            "\u001b[33mYou are using pip version 18.1, however version 20.0.2 is available.\n",
            "You should consider upgrading via the 'pip install --upgrade pip' command.\u001b[0m\n",
            "Requirement already up-to-date: XlsxWriter==1.2.8 in /Users/zhezhang/.local/lib/python3.6/site-packages (1.2.8)\n",
            "\u001b[33mYou are using pip version 18.1, however version 20.0.2 is available.\n",
            "You should consider upgrading via the 'pip install --upgrade pip' command.\u001b[0m\n",
            "Requirement already up-to-date: bokeh==2.0.0 in /Users/zhezhang/.local/lib/python3.6/site-packages (2.0.0)\n",
            "Requirement already satisfied, skipping upgrade: PyYAML>=3.10 in /Users/zhezhang/.pyenv/versions/3.6.8/lib/python3.6/site-packages (from bokeh==2.0.0) (5.3)\n",
            "Requirement already satisfied, skipping upgrade: python-dateutil>=2.1 in /Users/zhezhang/.local/lib/python3.6/site-packages (from bokeh==2.0.0) (2.8.1)\n",
            "Requirement already satisfied, skipping upgrade: Jinja2>=2.7 in /Users/zhezhang/.pyenv/versions/3.6.8/lib/python3.6/site-packages (from bokeh==2.0.0) (2.11.1)\n",
            "Requirement already satisfied, skipping upgrade: numpy>=1.11.3 in /Users/zhezhang/.local/lib/python3.6/site-packages (from bokeh==2.0.0) (1.18.2)\n",
            "Requirement already satisfied, skipping upgrade: pillow>=4.0 in /Users/zhezhang/.local/lib/python3.6/site-packages (from bokeh==2.0.0) (7.1.1)\n",
            "Requirement already satisfied, skipping upgrade: packaging>=16.8 in /Users/zhezhang/.pyenv/versions/3.6.8/lib/python3.6/site-packages (from bokeh==2.0.0) (20.3)\n",
            "Requirement already satisfied, skipping upgrade: tornado>=5 in /Users/zhezhang/.pyenv/versions/3.6.8/lib/python3.6/site-packages (from bokeh==2.0.0) (6.0.3)\n",
            "Requirement already satisfied, skipping upgrade: typing_extensions>=3.7.4 in /Users/zhezhang/.pyenv/versions/3.6.8/lib/python3.6/site-packages (from bokeh==2.0.0) (3.7.4.1)\n",
            "Requirement already satisfied, skipping upgrade: six>=1.5 in /Users/zhezhang/.local/lib/python3.6/site-packages (from python-dateutil>=2.1->bokeh==2.0.0) (1.14.0)\n",
            "Requirement already satisfied, skipping upgrade: MarkupSafe>=0.23 in /Users/zhezhang/.pyenv/versions/3.6.8/lib/python3.6/site-packages (from Jinja2>=2.7->bokeh==2.0.0) (1.1.1)\n",
            "Requirement already satisfied, skipping upgrade: pyparsing>=2.0.2 in /Users/zhezhang/.pyenv/versions/3.6.8/lib/python3.6/site-packages (from packaging>=16.8->bokeh==2.0.0) (2.4.6)\n",
            "\u001b[33mYou are using pip version 18.1, however version 20.0.2 is available.\n",
            "You should consider upgrading via the 'pip install --upgrade pip' command.\u001b[0m\n"
          ],
          "name": "stdout"
        }
      ]
    },
    {
      "cell_type": "markdown",
      "metadata": {
        "id": "2MrqDmSlTxda",
        "colab_type": "text"
      },
      "source": [
        "### <a id=\"function\"></a> 1.3 Import functions used in the notebook"
      ]
    },
    {
      "cell_type": "code",
      "metadata": {
        "id": "W_HbvD_BTxdb",
        "colab_type": "code",
        "colab": {},
        "outputId": "b41fef23-3c4f-4789-a732-8a22b6e7a79b"
      },
      "source": [
        "# Import function module files\n",
        "!curl -O https://raw.githubusercontent.com/watson-developer-cloud/assistant-improve-recommendations-notebook/master/src/main/python/cos_op.py\n",
        "!curl -O https://raw.githubusercontent.com/watson-developer-cloud/assistant-improve-recommendations-notebook/master/src/main/python/watson_assistant_func.py\n",
        "!curl -O https://raw.githubusercontent.com/watson-developer-cloud/assistant-improve-recommendations-notebook/master/src/main/python/visualize_func.py\n",
        "!curl -O https://raw.githubusercontent.com/watson-developer-cloud/assistant-improve-recommendations-notebook/master/src/main/python/computation_func.py\n",
        "    \n",
        "# Import the visualization related functions\n",
        "from visualize_func import make_pie\n",
        "from visualize_func import coverage_barh\n",
        "from visualize_func import width_bar\n",
        "from visualize_func import show_coverage_over_time\n",
        "\n",
        "# Import Cloud Object Storage related functions   \n",
        "from cos_op import generate_link\n",
        "from cos_op import generate_excel_measure\n",
        "\n",
        "# Import Watson Assistant related functions\n",
        "from ibm_cloud_sdk_core.authenticators import IAMAuthenticator\n",
        "from watson_assistant_func import get_logs_filter, get_assistant_definition\n",
        "\n",
        "# Import Dataframe computation related functions\n",
        "from computation_func import get_effective_df\n",
        "from computation_func import get_coverage_df\n",
        "from computation_func import chk_is_valid_node\n",
        "from computation_func import format_data"
      ],
      "execution_count": 0,
      "outputs": [
        {
          "output_type": "stream",
          "text": [
            "  % Total    % Received % Xferd  Average Speed   Time    Time     Time  Current\n",
            "                                 Dload  Upload   Total   Spent    Left  Speed\n",
            "100  7240  100  7240    0     0   7240      0  0:00:01 --:--:--  0:00:01 68952\n",
            "  % Total    % Received % Xferd  Average Speed   Time    Time     Time  Current\n",
            "                                 Dload  Upload   Total   Spent    Left  Speed\n",
            "100 12060  100 12060    0     0  12060      0  0:00:01 --:--:--  0:00:01  110k\n",
            "  % Total    % Received % Xferd  Average Speed   Time    Time     Time  Current\n",
            "                                 Dload  Upload   Total   Spent    Left  Speed\n",
            "100 15239  100 15239    0     0  15239      0  0:00:01 --:--:--  0:00:01  125k\n",
            "  % Total    % Received % Xferd  Average Speed   Time    Time     Time  Current\n",
            "                                 Dload  Upload   Total   Spent    Left  Speed\n",
            "100 16773  100 16773    0     0  16773      0  0:00:01 --:--:--  0:00:01  136k\n"
          ],
          "name": "stdout"
        }
      ]
    },
    {
      "cell_type": "markdown",
      "metadata": {
        "id": "-zmZmL2mTxdg",
        "colab_type": "text"
      },
      "source": [
        "## <a id=\"load\"></a> 2. Load and format data "
      ]
    },
    {
      "cell_type": "markdown",
      "metadata": {
        "id": "AJ7zcawmTxdj",
        "colab_type": "text"
      },
      "source": [
        "### <a id=\"load_remote\"></a> 2.1 Option one: from a Watson Assistant instance\n",
        "\n",
        "#### 2.1.1 Add Watson Assistant configuration\n",
        "\n",
        "This notebook uses the Watson Assistant v1 API to access your skill definition and your logs. Provide your Watson Assistant credentials and the workspace id that you want to fetch data from.\n",
        "\n",
        "You can access the values you need for this configuration from the Watson Assistant user interface. Go to the Skills page and select View API Details from the menu of a skill tile.\n",
        "\n",
        "- The string to set in the call to `IAMAuthenticator` is your Api Key under Service Credentials\n",
        "- The string to set for version is a date in the format version=YYYY-MM-DD. The version date string determines which version of the Watson Assistant V1 API will be called. For more information about version, see [Versioning](https://cloud.ibm.com/apidocs/assistant/assistant-v1#versioning).\n",
        "- The string to pass into `assistant.set_service_url` is the portion of the Legacy v1 Workspace URL that ends with `/api`. For example, `https://gateway.watsonplatform.net/assistant/api`. This value will be different depending on the location of your service instance. Do not pass in the entire Workspace URL."
      ]
    },
    {
      "cell_type": "code",
      "metadata": {
        "id": "0Wj-me4_Txdk",
        "colab_type": "code",
        "colab": {}
      },
      "source": [
        "# Provide credentials to connect to assistant\n",
        "authenticator = IAMAuthenticator('API_KEY')\n",
        "sdk_object = AssistantV1(version='2020-04-01', authenticator=authenticator)\n",
        "sdk_object.set_service_url('URL')"
      ],
      "execution_count": 0,
      "outputs": []
    },
    {
      "cell_type": "markdown",
      "metadata": {
        "id": "sF-Sr0AuTxds",
        "colab_type": "text"
      },
      "source": [
        "Add the information of your assistant. To load the skill of an assistant in the next section, you need to provide either Workspace ID or Skill ID. The values can be found on the View API Details page. If you are using versioning in Watson Assistant, this ID represents the Development version of your skill definition.\n",
        "\n",
        "For more information about authentication and finding credentials in the Watson Assistant UI, please see [Watson Assistant v1 API](https://cloud.ibm.com/apidocs/assistant/assistant-v1) in the offering documentation."
      ]
    },
    {
      "cell_type": "code",
      "metadata": {
        "id": "bZ2Po6BRTxdt",
        "colab_type": "code",
        "colab": {}
      },
      "source": [
        "assistant_information = {'workspace_id' : '',\n",
        "                         'skill_id' : '',\n",
        "                         'assistant_id' : ''}"
      ],
      "execution_count": 0,
      "outputs": []
    },
    {
      "cell_type": "markdown",
      "metadata": {
        "id": "nMKZ0DapTxdz",
        "colab_type": "text"
      },
      "source": [
        "#### 2.1.2 Fetch and load the definition of your assistant \n",
        "\n",
        "Fetch assistant definition and load into a dataframe. Set `export` to True for exporting definition to a JSON file. "
      ]
    },
    {
      "cell_type": "code",
      "metadata": {
        "id": "F-igFpHoTxd0",
        "colab_type": "code",
        "colab": {},
        "outputId": "3276ed15-41a1-4404-d015-096e43bb9fc2"
      },
      "source": [
        "df_assistant = get_assistant_definition(sdk_object, assistant_information, export=True)\n",
        "\n",
        "if df_assistant is not None:\n",
        "    # Get all intents\n",
        "    assistant_intents = [intent['intent'] for intent in df_assistant['intents'].values[0]] \n",
        "    # Get all dialog nodes\n",
        "    assistant_nodes = pd.DataFrame(df_assistant['dialog_nodes'].values[0])\n",
        "    assistant_loaded = True\n",
        "else:\n",
        "    assistant_loaded = False"
      ],
      "execution_count": 0,
      "outputs": [
        {
          "output_type": "stream",
          "text": [
            "Please provide a valid Workspace ID or Skill ID!\n"
          ],
          "name": "stdout"
        }
      ]
    },
    {
      "cell_type": "markdown",
      "metadata": {
        "id": "Z5ynIlJGTxeC",
        "colab_type": "text"
      },
      "source": [
        "#### 2.1.3 Fetch and load workspace logs\n",
        "\n",
        "Fetch user generated logs. You can apply filters while fetching logs, e.g.,\n",
        "- removing empty input: `meta.summary.input_text_length_i>0`\n",
        "- fetching logs generated after a timestamp: `response_timestamp>=2018-09-18`\n",
        "\n",
        "Note that if logs will be saved into a cached file and reloaded from the file. Set `reset` to True to reload logs."
      ]
    },
    {
      "cell_type": "code",
      "metadata": {
        "id": "xQ-UT6tdTxeD",
        "colab_type": "code",
        "colab": {},
        "outputId": "eb5c1cc3-fb71-4c01-9f38-fe3eee506e9d"
      },
      "source": [
        "# Filter to be applied while fetching logs\n",
        "filters = ['language::en',\n",
        "           'meta.summary.input_text_length_i>0']\n",
        "\n",
        "# Fetch the logs, set `reset` to True to reload logs\n",
        "df_logs = get_logs_filter(sdk_object, assistant_information, num_logs=20000, filters=filters, reset=True)\n",
        "\n",
        "if df_logs is not None:\n",
        "    # Mark that logs have been loaded\n",
        "    logs_loaded = True\n",
        "else:\n",
        "    logs_loaded = False"
      ],
      "execution_count": 0,
      "outputs": [
        {
          "output_type": "stream",
          "text": [
            "Please provide a valid Workspace ID, Assistant ID, or Skill ID!\n"
          ],
          "name": "stdout"
        }
      ]
    },
    {
      "cell_type": "markdown",
      "metadata": {
        "id": "4xXBwqjMTxeM",
        "colab_type": "text"
      },
      "source": [
        "### <a id=\"load_local\"></a> 2.2 Option two: from JSON files\n",
        "\n",
        "#### 2.2.1 Load a workspace JSON file"
      ]
    },
    {
      "cell_type": "code",
      "metadata": {
        "id": "mHXACrwkTxeN",
        "colab_type": "code",
        "colab": {},
        "outputId": "59312d72-83ff-427e-8829-ca1643bb8401"
      },
      "source": [
        "if not assistant_loaded:\n",
        "    \n",
        "    # The following code is for using demo workspace\n",
        "    import requests\n",
        "    print('Loading workspace data from Watson developer cloud Github repo ... ', end='')\n",
        "    workspace_data = requests.get(\"https://raw.githubusercontent.com/watson-developer-cloud/assistant-improve-recommendations-notebook/master/notebook/data/workspace.json\").text    \n",
        "    df_assistant = json_normalize(json.loads(workspace_data))\n",
        "    \n",
        "    # Specify a workspace JSON file\n",
        "#     assistant_definition_file = ''\n",
        "#     print('Loading workspace data from {}'.format(assistant_definition_file))\n",
        "\n",
        "    # Store the workspace details in a dataframe\n",
        "#     df_assistant = json_normalize(json.load(open(assistant_definition_file)))\n",
        "\n",
        "    # Get all intents\n",
        "    assistant_intents = [intent['intent'] for intent in df_assistant['intents'].values[0]] \n",
        "\n",
        "    # Get all dialog nodes\n",
        "    assistant_nodes = pd.DataFrame(df_assistant['dialog_nodes'].values[0])\n",
        "    print('completed!')\n",
        "else:\n",
        "    print('Assistant definition has been loaded in Section 2.1.2.')"
      ],
      "execution_count": 0,
      "outputs": [
        {
          "output_type": "stream",
          "text": [
            "Loading workspace data from Watson developer cloud Github repo ... completed!\n"
          ],
          "name": "stdout"
        }
      ]
    },
    {
      "cell_type": "markdown",
      "metadata": {
        "id": "dSzwlk3ZTxeS",
        "colab_type": "text"
      },
      "source": [
        "#### 2.2.2 Load a log JSON file"
      ]
    },
    {
      "cell_type": "code",
      "metadata": {
        "id": "FKnbYowxTxeT",
        "colab_type": "code",
        "colab": {},
        "outputId": "2bb92c5d-e979-44c8-8dd4-f2867e455b26"
      },
      "source": [
        "if not logs_loaded:\n",
        "    \n",
        "    # The following code is for using demo logs\n",
        "    import requests\n",
        "    print('Loading demo log data from Watson developer cloud Github repo ... ', end='')\n",
        "    log_raw_data = requests.get(\"https://raw.githubusercontent.com/watson-developer-cloud/assistant-improve-recommendations-notebook/master/notebook/data/sample_logs.json\").text\n",
        "    print('completed!')\n",
        "    df_logs = pd.DataFrame.from_records(json.loads(log_raw_data))\n",
        "\n",
        "#     # The following code is for loading your log file\n",
        "#     # Specify a log JSON file\n",
        "#     log_file = 'sample_logs.json'\n",
        "#     print('Loading log data from {}'.format(log_file)) \n",
        "    \n",
        "#     # Create a dataframe for logs\n",
        "#     df = pd.DataFrame.from_records(json.load(open(log_file)))\n",
        "#     print('completed!')\n",
        "else:\n",
        "    print('Logs have been loaded in Section 2.1.3.')"
      ],
      "execution_count": 0,
      "outputs": [
        {
          "output_type": "stream",
          "text": [
            "Loading demo log data from Watson developer cloud Github repo ... completed!\n"
          ],
          "name": "stdout"
        }
      ]
    },
    {
      "cell_type": "markdown",
      "metadata": {
        "id": "tVwWeY7QTxeY",
        "colab_type": "text"
      },
      "source": [
        "### <a id=\"format_data\"></a> 2.3 Format the log data"
      ]
    },
    {
      "cell_type": "code",
      "metadata": {
        "id": "y8zkt3FMTxeZ",
        "colab_type": "code",
        "colab": {}
      },
      "source": [
        "# Format the logs data from the workspace\n",
        "df_formated = format_data(df_logs)"
      ],
      "execution_count": 0,
      "outputs": []
    },
    {
      "cell_type": "markdown",
      "metadata": {
        "id": "R5VJC-9ITxed",
        "colab_type": "text"
      },
      "source": [
        "<a id=\"set_metrics\"></a>\n",
        "## 3. Define effectiveness and coverage metrics\n",
        "As described in Watson Assistant Continuous Improvement Best Practices, **Effectiveness** and **Coverage** are the two measures that provide a reliable understanding of your assistant’s overall performance. Both of the two measures are customizable based on your preferences. In this section, we provide a guideline for setting each of them."
      ]
    },
    {
      "cell_type": "markdown",
      "metadata": {
        "id": "CaYgdpwvTxee",
        "colab_type": "text"
      },
      "source": [
        "### <a id=\"set_coverage\"></a> 3.1 Customize coverage\n",
        "\n",
        "Coverage measures your Watson Assistant system at the utterance level. You may include automated metrics that help identify utterences that your service is not answering. Example metrics include: \n",
        "\n",
        "- Confidence threshold\n",
        "- Dialog information\n",
        "\n",
        "For Confidence threshold, you can set a threshold to include utterances with confidence values below this threshold. For more information regarding Confidence, see [Absolute scoring](https://console.bluemix.net/docs/services/conversation/intents.html#absolute-scoring-and-mark-as-irrelevant).\n",
        "\n",
        "For Dialog information, you can specify what the notebook should look for in your logs to determine that a message is not covered by your assistant.\n",
        "\n",
        "- Use the node_ids list to include the identifiers of any dialog nodes you've used to model that a message is out of scope.  \n",
        "- Similarly, use the node_names list to include any dialog nodes.\n",
        "- Use node_conditions for dialog conditions that indicate a message is out of scope.\n",
        "    \n",
        "Note that these lists are treated as \"OR\" conditions - any occurrence of any of them will signify that a message is not covered. \n",
        "\n",
        "__Where to find node id, node name, and node condition__?\n",
        "\n",
        "You can find the values of these variables from your workspace JSON file based on following mappings.\n",
        "\n",
        "- node id: `dialog_node`\n",
        "- node name: `title`\n",
        "- node condition: `conditions`\n",
        "\n",
        "You can also find node name, and node condition in your workspace dialog editor. For more information, see [Dialog Nodes].(https://console.bluemix.net/docs/services/conversation/dialog-overview.html#dialog-nodes)\n",
        "\n",
        "Below we provide example code for identifying coverage based on confidence and dialog node. "
      ]
    },
    {
      "cell_type": "code",
      "metadata": {
        "id": "3oE4ePLVTxef",
        "colab_type": "code",
        "colab": {},
        "outputId": "a068b6c1-f6d0-48cf-fec5-8fb7bf744691"
      },
      "source": [
        "#Specify the confidence threhold you want to look for in the logs\n",
        "confidence_threshold = .20\n",
        "\n",
        "# Add coverage node ids, if any, to list\n",
        "node_ids = ['node_1_1467910920863', 'node_1_1467919680248']\n",
        "\n",
        "# Add coverage node names, if any, to list\n",
        "node_names = []\n",
        "\n",
        "# Add coverage node conditions, if any, to list\n",
        "node_conditions = ['#out_of_scope || #off_topic', 'anything_else']\n",
        "\n",
        "# Check if the dialog nodes are present in the current version of workspace\n",
        "df_coverage_nodes = chk_is_valid_node(node_ids, node_names, node_conditions, assistant_nodes)\n",
        "df_coverage_nodes"
      ],
      "execution_count": 0,
      "outputs": [
        {
          "output_type": "execute_result",
          "data": {
            "text/html": [
              "<div>\n",
              "<style scoped>\n",
              "    .dataframe tbody tr th:only-of-type {\n",
              "        vertical-align: middle;\n",
              "    }\n",
              "\n",
              "    .dataframe tbody tr th {\n",
              "        vertical-align: top;\n",
              "    }\n",
              "\n",
              "    .dataframe thead th {\n",
              "        text-align: right;\n",
              "    }\n",
              "</style>\n",
              "<table border=\"1\" class=\"dataframe\">\n",
              "  <thead>\n",
              "    <tr style=\"text-align: right;\">\n",
              "      <th></th>\n",
              "      <th>Condition</th>\n",
              "      <th>Node ID</th>\n",
              "      <th>Node Name</th>\n",
              "      <th>Valid</th>\n",
              "    </tr>\n",
              "  </thead>\n",
              "  <tbody>\n",
              "    <tr>\n",
              "      <th>0</th>\n",
              "      <td>true</td>\n",
              "      <td>node_1_1467910920863</td>\n",
              "      <td>NaN</td>\n",
              "      <td>True</td>\n",
              "    </tr>\n",
              "    <tr>\n",
              "      <th>1</th>\n",
              "      <td>true</td>\n",
              "      <td>node_1_1467919680248</td>\n",
              "      <td>NaN</td>\n",
              "      <td>True</td>\n",
              "    </tr>\n",
              "    <tr>\n",
              "      <th>2</th>\n",
              "      <td>#out_of_scope || #off_topic</td>\n",
              "      <td>node_1_1467743415843</td>\n",
              "      <td>NaN</td>\n",
              "      <td>True</td>\n",
              "    </tr>\n",
              "    <tr>\n",
              "      <th>3</th>\n",
              "      <td>anything_else</td>\n",
              "      <td>node_2_1487280430136</td>\n",
              "      <td>NaN</td>\n",
              "      <td>True</td>\n",
              "    </tr>\n",
              "  </tbody>\n",
              "</table>\n",
              "</div>"
            ],
            "text/plain": [
              "                     Condition               Node ID Node Name Valid\n",
              "0                         true  node_1_1467910920863       NaN  True\n",
              "1                         true  node_1_1467919680248       NaN  True\n",
              "2  #out_of_scope || #off_topic  node_1_1467743415843       NaN  True\n",
              "3                anything_else  node_2_1487280430136       NaN  True"
            ]
          },
          "metadata": {
            "tags": []
          },
          "execution_count": 11
        }
      ]
    },
    {
      "cell_type": "markdown",
      "metadata": {
        "id": "PzOyAJ0TTxel",
        "colab_type": "text"
      },
      "source": [
        "### <a id=\"set_effectiveness\"></a> 3.2 Customize effectiveness\n",
        "\n",
        "Effectiveness measures your Watson Assistant system at the conversation level. You may include automated metrics that help identify problematic conversations. Example metrics include:\n",
        "\n",
        "- Escalations to live agent: conversations escalated to a human agent for quality reasons.\n",
        "- Poor NPS: conversations that received a poor NPS (Net Promoter Score), or other explicit user feedback.\n",
        "- Task not completed: conversations failed to complete the task the user was attempting.\n",
        "- Implicit feedback: conversations containing implicit feedback that suggests failure, such as links provided not being clicked. \n",
        "\n",
        "Below we provide example code for identifying escalation based on intents and dialog information."
      ]
    },
    {
      "cell_type": "markdown",
      "metadata": {
        "id": "h_oVei22Txem",
        "colab_type": "text"
      },
      "source": [
        "#### <a id=\"set_escalation_intent\"></a> 3.2.1 Specify intents to identify escalations\n",
        "If you have specific intents that point to escalation or any other effectiveness measure, specify those in `chk_effective_intents` lists below. <br>\n",
        "**Note:** If you don't have specific intents to capture effectiveness, leave chk_effective_intents list empty."
      ]
    },
    {
      "cell_type": "code",
      "metadata": {
        "id": "NfDcMe5hTxeo",
        "colab_type": "code",
        "colab": {},
        "outputId": "988db82e-fc5d-4052-eea0-84b64602ee41"
      },
      "source": [
        "# Add your escalation intents to the list\n",
        "chk_effective_intents=['connect_to_agent']\n",
        "\n",
        "# Store the intents in a dataframe\n",
        "df_chk_effective_intents = pd.DataFrame(chk_effective_intents, columns = ['Intent'])\n",
        "\n",
        "# Add a 'valid' flag to the dataframe\n",
        "df_chk_effective_intents['Valid']= True\n",
        "\n",
        "# Add count column for selected intents\n",
        "df_chk_effective_intents['Count']= 0\n",
        "\n",
        "# Checking the validity of the specified intents. Look out for the `valid` column in the table displayed below.\n",
        "for intent in chk_effective_intents:\n",
        "    # Check if intent is present in workspace\n",
        "    if intent not in assistant_intents:\n",
        "        # If not present, mark it as 'not valid'\n",
        "        df_chk_effective_intents.loc[df_chk_effective_intents['Intent']==intent,['Valid']] = False\n",
        "        # Remove intent from the chk_effective_intents list \n",
        "        chk_effective_intents.remove(intent)\n",
        "    else:\n",
        "        # Calculate number of times each intent is hit\n",
        "        count = df_formated.loc[df_formated['response.top_intent_intent']==intent]['log_id'].nunique()\n",
        "        df_chk_effective_intents.loc[df_chk_effective_intents['Intent']==intent,['Count']] = count\n",
        "# Display intents and validity\n",
        "df_chk_effective_intents"
      ],
      "execution_count": 0,
      "outputs": [
        {
          "output_type": "execute_result",
          "data": {
            "text/html": [
              "<div>\n",
              "<style scoped>\n",
              "    .dataframe tbody tr th:only-of-type {\n",
              "        vertical-align: middle;\n",
              "    }\n",
              "\n",
              "    .dataframe tbody tr th {\n",
              "        vertical-align: top;\n",
              "    }\n",
              "\n",
              "    .dataframe thead th {\n",
              "        text-align: right;\n",
              "    }\n",
              "</style>\n",
              "<table border=\"1\" class=\"dataframe\">\n",
              "  <thead>\n",
              "    <tr style=\"text-align: right;\">\n",
              "      <th></th>\n",
              "      <th>Intent</th>\n",
              "      <th>Valid</th>\n",
              "      <th>Count</th>\n",
              "    </tr>\n",
              "  </thead>\n",
              "  <tbody>\n",
              "    <tr>\n",
              "      <th>0</th>\n",
              "      <td>connect_to_agent</td>\n",
              "      <td>True</td>\n",
              "      <td>73</td>\n",
              "    </tr>\n",
              "  </tbody>\n",
              "</table>\n",
              "</div>"
            ],
            "text/plain": [
              "             Intent  Valid  Count\n",
              "0  connect_to_agent   True     73"
            ]
          },
          "metadata": {
            "tags": []
          },
          "execution_count": 12
        }
      ]
    },
    {
      "cell_type": "markdown",
      "metadata": {
        "id": "9NKtOZ0_Txew",
        "colab_type": "text"
      },
      "source": [
        "#### <a id=\"set_escalation_dialog\"></a> 3.2.2 Specify  dialog nodes to identify escalations\n",
        "If you have specific dialog nodes that point to escalation or any other effectiveness measure, you can automated capture them based on three variables: node id, node name, and node condition.\n",
        "\n",
        "- Use the node_ids list to include the identifiers of any dialog nodes you've used to model that a message indicates an escalation.  \n",
        "- Similarly, use the node_names list to include dialog nodes.\n",
        "- Use node_conditions for dialog conditions that indicate a message is out of scope.\n",
        "\n",
        "Note that these lists are treated as \"OR\" conditions - any occurrence of any of them will signify that a message is not covered. \n",
        "\n",
        "__Where to find node id, node name, and node condition__?\n",
        "\n",
        "You can find the values of these variables from your workspace JSON file based on following mappings.\n",
        "\n",
        "- node id: `dialog_node`\n",
        "- node name: `title`\n",
        "- node condition: `conditions`\n",
        "\n",
        "You can also find node name, and node condition in your workspace dialog editor. For more information, see [Dialog Nodes](https://console.bluemix.net/docs/services/conversation/dialog-overview.html#dialog-nodes).\n",
        "\n",
        "**Note:** If your assistant does not incorporate escalations and you do not have any other automated conversation-level quality metrics to identify problematic conversations (e.g., poor NPS, task not completed), you can simply track coverage and average confidence over a recent sample of your entire production logs. Leave an empty list for node_ids, node_names and node_conditions.  "
      ]
    },
    {
      "cell_type": "code",
      "metadata": {
        "id": "fAElZOooTxew",
        "colab_type": "code",
        "colab": {},
        "outputId": "52495335-05a0-428e-d349-e323f70eda54"
      },
      "source": [
        "# Add effectiveness node ids, if any, to list\n",
        "node_ids = []\n",
        "\n",
        "# Add effectiveness node names, if any, to list\n",
        "node_names = ['not_trained']\n",
        "\n",
        "# Add effectiveness node conditions, if any, to list\n",
        "node_conditions = ['#connect_to_agent', '#answer_not_helpful']\n",
        "\n",
        "# If your assistant does not incorporate escalations and you do not have any other automated conversation-level quality metrics, uncomment lines below \n",
        "# node_ids = [] \n",
        "# node_names = [] \n",
        "# node_conditions = [] \n",
        "\n",
        "# Check if the dialog nodes are present in the current version of workspace\n",
        "df_chk_effective_nodes = chk_is_valid_node(node_ids, node_names, node_conditions, assistant_nodes)\n",
        "df_chk_effective_nodes"
      ],
      "execution_count": 0,
      "outputs": [
        {
          "output_type": "execute_result",
          "data": {
            "text/html": [
              "<div>\n",
              "<style scoped>\n",
              "    .dataframe tbody tr th:only-of-type {\n",
              "        vertical-align: middle;\n",
              "    }\n",
              "\n",
              "    .dataframe tbody tr th {\n",
              "        vertical-align: top;\n",
              "    }\n",
              "\n",
              "    .dataframe thead th {\n",
              "        text-align: right;\n",
              "    }\n",
              "</style>\n",
              "<table border=\"1\" class=\"dataframe\">\n",
              "  <thead>\n",
              "    <tr style=\"text-align: right;\">\n",
              "      <th></th>\n",
              "      <th>Condition</th>\n",
              "      <th>Node ID</th>\n",
              "      <th>Node Name</th>\n",
              "      <th>Valid</th>\n",
              "    </tr>\n",
              "  </thead>\n",
              "  <tbody>\n",
              "    <tr>\n",
              "      <th>0</th>\n",
              "      <td>#connect_to_agent</td>\n",
              "      <td>node_2_1537212368188</td>\n",
              "      <td>NaN</td>\n",
              "      <td>True</td>\n",
              "    </tr>\n",
              "    <tr>\n",
              "      <th>1</th>\n",
              "      <td>#answer_not_helpful</td>\n",
              "      <td>node_1_1537212185418</td>\n",
              "      <td>NaN</td>\n",
              "      <td>True</td>\n",
              "    </tr>\n",
              "    <tr>\n",
              "      <th>2</th>\n",
              "      <td>#not_trained</td>\n",
              "      <td>node_1_1537297843450</td>\n",
              "      <td>not_trained</td>\n",
              "      <td>True</td>\n",
              "    </tr>\n",
              "  </tbody>\n",
              "</table>\n",
              "</div>"
            ],
            "text/plain": [
              "             Condition               Node ID    Node Name Valid\n",
              "0    #connect_to_agent  node_2_1537212368188          NaN  True\n",
              "1  #answer_not_helpful  node_1_1537212185418          NaN  True\n",
              "2         #not_trained  node_1_1537297843450  not_trained  True"
            ]
          },
          "metadata": {
            "tags": []
          },
          "execution_count": 13
        }
      ]
    },
    {
      "cell_type": "markdown",
      "metadata": {
        "id": "tXzgsypoTxe2",
        "colab_type": "text"
      },
      "source": [
        "## 4. Calculate overall coverage and effectiveness<a id=\"overall\"></a>\n",
        "The combination of effectiveness and coverage is very powerful for diagnostics.\n",
        "If your effectiveness and coverage metrics are high, it means that your assistant is responding to most inquiries and responding well. If either effectiveness or coverage are low, the metrics provide you with the information you need to start improving your assistant. "
      ]
    },
    {
      "cell_type": "markdown",
      "metadata": {
        "id": "lXSI2t9TTxe3",
        "colab_type": "text"
      },
      "source": [
        "###  4.1 Calculate overall metrics<a id=\"overall1\"></a>"
      ]
    },
    {
      "cell_type": "code",
      "metadata": {
        "id": "zdNYN3uITxe4",
        "colab_type": "code",
        "colab": {}
      },
      "source": [
        "df_formated_copy = df_formated.copy(deep = True)\n",
        "\n",
        "# Mark if a message is covered and store results in df_coverage dataframe\n",
        "df_coverage = get_coverage_df(df_formated_copy , df_coverage_nodes, confidence_threshold)\n",
        "\n",
        "# Mark if a conversation is effective and store results in df_coverage dataframe\n",
        "df_effective = get_effective_df(df_formated_copy, chk_effective_intents, df_chk_effective_nodes, filter_non_intent_node=True, workspace_nodes=assistant_nodes)\n",
        "\n",
        "# Calculate average confidence\n",
        "avg_conf = float(\"{0:.2f}\".format(df_coverage[df_coverage['Covered']==True]['response.top_intent_confidence'].mean()*100))\n",
        "\n",
        "# Calculate coverage\n",
        "coverage = float(\"{0:.2f}\".format((df_coverage['Covered'].value_counts().to_frame()['Covered'][True]/df_coverage['Covered'].value_counts().sum())*100))\n",
        "\n",
        "# Calculate effectiveness\n",
        "effective_perc = float(\"{0:.2f}\".format((df_effective.loc[df_effective['Escalated_conversation']==False]['response.context.conversation_id'].nunique()/df_effective['response.context.conversation_id'].nunique())*100))              "
      ],
      "execution_count": 0,
      "outputs": []
    },
    {
      "cell_type": "markdown",
      "metadata": {
        "id": "LHqzKWI1Txe_",
        "colab_type": "text"
      },
      "source": [
        "###  4.2 Display overall results<a id=\"overall2\"></a>"
      ]
    },
    {
      "cell_type": "code",
      "metadata": {
        "id": "qIy_x8a-TxfA",
        "colab_type": "code",
        "colab": {},
        "outputId": "46979ebb-d7ae-430e-98a4-287e4ff93b67"
      },
      "source": [
        "# Plot pie graphs for coverage and effectiveness\n",
        "coverage_pie = make_pie(coverage, \"Percent of total messages covered\")\n",
        "effective_pie = make_pie(effective_perc, 'Percent of non-escalated conversations')\n",
        "\n",
        "# Messages to be displayed with effectiveness and coverage\n",
        "coverage_msg = '<h2>Coverage</h2></br>A message that is not covered would either be a \\\n",
        "message your assistant responded to with some form \\\n",
        "of “I’m not trained” or that it immediately handed over \\\n",
        "to a human agent without attempting to respond'\n",
        "\n",
        "effectiveness_msg = '<h2>Effectiveness</h2></br>This notebook provides a list of metrics customers \\\n",
        "can use to assess how effective their assistant is at \\\n",
        "responding to conversation and metrics '\n",
        "\n",
        "# Display the coverage and effectiveness pie charts\n",
        "HTML('<tr><th colspan=\"4\"><div align=\"center\"><h2>Coverage and Effectiveness<hr/></h2></div></th></tr>\\\n",
        "<tr>\\\n",
        "    <td style=\"width:500px\">{c_pie}</td>\\\n",
        "    <td style=\"width:450px\"><div align=\"left\"> {c_msg} </div></td>\\\n",
        "    <td style=\"width:500px\">{e_pie}</td>\\\n",
        "    <td style=\"width:450px\"><div align=\"left\"> {e_msg}  </div></td>\\\n",
        "</tr>'\n",
        "    .format(c_pie=coverage_pie, c_msg = coverage_msg, e_pie = effective_pie, e_msg = effectiveness_msg))"
      ],
      "execution_count": 0,
      "outputs": [
        {
          "output_type": "execute_result",
          "data": {
            "text/html": [
              "<tr><th colspan=\"4\"><div align=\"center\"><h2>Coverage and Effectiveness<hr/></h2></div></th></tr><tr>    <td style=\"width:500px\"><img class=\"colimg\" src='data:image/png;base64,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'></td>    <td style=\"width:450px\"><div align=\"left\"> <h2>Coverage</h2></br>A message that is not covered would either be a message your assistant responded to with some form of “I’m not trained” or that it immediately handed over to a human agent without attempting to respond </div></td>    <td style=\"width:500px\"><img class=\"colimg\" src='data:image/png;base64,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'></td>    <td style=\"width:450px\"><div align=\"left\"> <h2>Effectiveness</h2></br>This notebook provides a list of metrics customers can use to assess how effective their assistant is at responding to conversation and metrics   </div></td></tr>"
            ],
            "text/plain": [
              "<IPython.core.display.HTML object>"
            ]
          },
          "metadata": {
            "tags": []
          },
          "execution_count": 15
        }
      ]
    },
    {
      "cell_type": "markdown",
      "metadata": {
        "id": "Y70y6a3rTxfM",
        "colab_type": "text"
      },
      "source": [
        "Here, we can see our assistant's coverage and effectiveness. We will have to take a deeper look at both of these metrics to understand the nuances and decide where we should focus next. \n",
        "\n",
        "Note that the distinction between a user message and a conversation. A conversation in Watson Assistant represents a session of one or more messages from a user and the associated responses returned to the user from the assistant. A conversation includes a Conversation id for the purposes of grouping a sequence of messages and responses. "
      ]
    },
    {
      "cell_type": "markdown",
      "metadata": {
        "id": "IL6-gKoqTxfO",
        "colab_type": "text"
      },
      "source": [
        "<a id=\"msg_analysis\"></a>\n",
        "## 5.  Analyze coverage\n",
        "\n",
        "Now, we take a deeper look at the Coverage of your Assistant."
      ]
    },
    {
      "cell_type": "markdown",
      "metadata": {
        "id": "yxszpnIJTxfP",
        "colab_type": "text"
      },
      "source": [
        "###  5.1 Display overall coverage<a id=\"msg_analysis1\"></a>"
      ]
    },
    {
      "cell_type": "code",
      "metadata": {
        "id": "9-xiLB_tTxfQ",
        "colab_type": "code",
        "colab": {},
        "outputId": "0e5faa93-4214-4782-e110-f75a0988578c"
      },
      "source": [
        "# Compute the number of conversations in the log\n",
        "convs = df_coverage['response.context.conversation_id'].nunique()\n",
        "\n",
        "# Compute the number of messages in the log\n",
        "msgs = df_coverage['response.context.conversation_id'].size\n",
        "\n",
        "#Display the results\n",
        "print('Overall messages\\n', \"=\" * len('Overall messages'), '\\nTotal Conversations: ', convs, '\\nTotal Messages: ', msgs, '\\n\\n', sep = '')\n",
        "\n",
        "#Display the coverage bar chart\n",
        "display(coverage_barh(coverage, avg_conf, 'Coverage & Average confidence', False))"
      ],
      "execution_count": 0,
      "outputs": [
        {
          "output_type": "stream",
          "text": [
            "Overall messages\n",
            "================\n",
            "Total Conversations: 4319\n",
            "Total Messages: 7706\n",
            "\n",
            "\n"
          ],
          "name": "stdout"
        },
        {
          "output_type": "display_data",
          "data": {
            "image/png": "[encoded data removed]",
            "text/plain": [
              "<Figure size 1080x108 with 1 Axes>"
            ]
          },
          "metadata": {
            "tags": []
          }
        }
      ]
    },
    {
      "cell_type": "markdown",
      "metadata": {
        "id": "ZyR3y3dbTxfU",
        "colab_type": "text"
      },
      "source": [
        "###  5.2 Calculate coverage over time<a id=\"msg_analysis2\"></a>\n",
        "\n",
        "Compare the coverage over time with any major updates to your assistant, to see if the changes affected the performance. Use the interval parameter to set a time interval.  You can choose from:  {\"minute\", \"5-minute\", \"15-minute\", \"30-minute\", \"hour\", \"day\", \"week\", \"month\"}. Move your cursor over the bars to check the coverage value."
      ]
    },
    {
      "cell_type": "code",
      "metadata": {
        "id": "wO-1LTn2TxfV",
        "colab_type": "code",
        "colab": {},
        "outputId": "1dfc299b-8abe-4e4a-9d55-1d166aaec3c7"
      },
      "source": [
        "show_coverage_over_time(df_coverage, interval='day')"
      ],
      "execution_count": 0,
      "outputs": [
        {
          "output_type": "display_data",
          "data": {
            "application/javascript": [
              "\n",
              "(function(root) {\n",
              "  function now() {\n",
              "    return new Date();\n",
              "  }\n",
              "\n",
              "  var force = true;\n",
              "\n",
              "  if (typeof root._bokeh_onload_callbacks === \"undefined\" || force === true) {\n",
              "    root._bokeh_onload_callbacks = [];\n",
              "    root._bokeh_is_loading = undefined;\n",
              "  }\n",
              "\n",
              "  var JS_MIME_TYPE = 'application/javascript';\n",
              "  var HTML_MIME_TYPE = 'text/html';\n",
              "  var EXEC_MIME_TYPE = 'application/vnd.bokehjs_exec.v0+json';\n",
              "  var CLASS_NAME = 'output_bokeh rendered_html';\n",
              "\n",
              "  /**\n",
              "   * Render data to the DOM node\n",
              "   */\n",
              "  function render(props, node) {\n",
              "    var script = document.createElement(\"script\");\n",
              "    node.appendChild(script);\n",
              "  }\n",
              "\n",
              "  /**\n",
              "   * Handle when an output is cleared or removed\n",
              "   */\n",
              "  function handleClearOutput(event, handle) {\n",
              "    var cell = handle.cell;\n",
              "\n",
              "    var id = cell.output_area._bokeh_element_id;\n",
              "    var server_id = cell.output_area._bokeh_server_id;\n",
              "    // Clean up Bokeh references\n",
              "    if (id != null && id in Bokeh.index) {\n",
              "      Bokeh.index[id].model.document.clear();\n",
              "      delete Bokeh.index[id];\n",
              "    }\n",
              "\n",
              "    if (server_id !== undefined) {\n",
              "      // Clean up Bokeh references\n",
              "      var cmd = \"from bokeh.io.state import curstate; print(curstate().uuid_to_server['\" + server_id + \"'].get_sessions()[0].document.roots[0]._id)\";\n",
              "      cell.notebook.kernel.execute(cmd, {\n",
              "        iopub: {\n",
              "          output: function(msg) {\n",
              "            var id = msg.content.text.trim();\n",
              "            if (id in Bokeh.index) {\n",
              "              Bokeh.index[id].model.document.clear();\n",
              "              delete Bokeh.index[id];\n",
              "            }\n",
              "          }\n",
              "        }\n",
              "      });\n",
              "      // Destroy server and session\n",
              "      var cmd = \"import bokeh.io.notebook as ion; ion.destroy_server('\" + server_id + \"')\";\n",
              "      cell.notebook.kernel.execute(cmd);\n",
              "    }\n",
              "  }\n",
              "\n",
              "  /**\n",
              "   * Handle when a new output is added\n",
              "   */\n",
              "  function handleAddOutput(event, handle) {\n",
              "    var output_area = handle.output_area;\n",
              "    var output = handle.output;\n",
              "\n",
              "    // limit handleAddOutput to display_data with EXEC_MIME_TYPE content only\n",
              "    if ((output.output_type != \"display_data\") || (!output.data.hasOwnProperty(EXEC_MIME_TYPE))) {\n",
              "      return\n",
              "    }\n",
              "\n",
              "    var toinsert = output_area.element.find(\".\" + CLASS_NAME.split(' ')[0]);\n",
              "\n",
              "    if (output.metadata[EXEC_MIME_TYPE][\"id\"] !== undefined) {\n",
              "      toinsert[toinsert.length - 1].firstChild.textContent = output.data[JS_MIME_TYPE];\n",
              "      // store reference to embed id on output_area\n",
              "      output_area._bokeh_element_id = output.metadata[EXEC_MIME_TYPE][\"id\"];\n",
              "    }\n",
              "    if (output.metadata[EXEC_MIME_TYPE][\"server_id\"] !== undefined) {\n",
              "      var bk_div = document.createElement(\"div\");\n",
              "      bk_div.innerHTML = output.data[HTML_MIME_TYPE];\n",
              "      var script_attrs = bk_div.children[0].attributes;\n",
              "      for (var i = 0; i < script_attrs.length; i++) {\n",
              "        toinsert[toinsert.length - 1].firstChild.setAttribute(script_attrs[i].name, script_attrs[i].value);\n",
              "        toinsert[toinsert.length - 1].firstChild.textContent = bk_div.children[0].textContent\n",
              "      }\n",
              "      // store reference to server id on output_area\n",
              "      output_area._bokeh_server_id = output.metadata[EXEC_MIME_TYPE][\"server_id\"];\n",
              "    }\n",
              "  }\n",
              "\n",
              "  function register_renderer(events, OutputArea) {\n",
              "\n",
              "    function append_mime(data, metadata, element) {\n",
              "      // create a DOM node to render to\n",
              "      var toinsert = this.create_output_subarea(\n",
              "        metadata,\n",
              "        CLASS_NAME,\n",
              "        EXEC_MIME_TYPE\n",
              "      );\n",
              "      this.keyboard_manager.register_events(toinsert);\n",
              "      // Render to node\n",
              "      var props = {data: data, metadata: metadata[EXEC_MIME_TYPE]};\n",
              "      render(props, toinsert[toinsert.length - 1]);\n",
              "      element.append(toinsert);\n",
              "      return toinsert\n",
              "    }\n",
              "\n",
              "    /* Handle when an output is cleared or removed */\n",
              "    events.on('clear_output.CodeCell', handleClearOutput);\n",
              "    events.on('delete.Cell', handleClearOutput);\n",
              "\n",
              "    /* Handle when a new output is added */\n",
              "    events.on('output_added.OutputArea', handleAddOutput);\n",
              "\n",
              "    /**\n",
              "     * Register the mime type and append_mime function with output_area\n",
              "     */\n",
              "    OutputArea.prototype.register_mime_type(EXEC_MIME_TYPE, append_mime, {\n",
              "      /* Is output safe? */\n",
              "      safe: true,\n",
              "      /* Index of renderer in `output_area.display_order` */\n",
              "      index: 0\n",
              "    });\n",
              "  }\n",
              "\n",
              "  // register the mime type if in Jupyter Notebook environment and previously unregistered\n",
              "  if (root.Jupyter !== undefined) {\n",
              "    var events = require('base/js/events');\n",
              "    var OutputArea = require('notebook/js/outputarea').OutputArea;\n",
              "\n",
              "    if (OutputArea.prototype.mime_types().indexOf(EXEC_MIME_TYPE) == -1) {\n",
              "      register_renderer(events, OutputArea);\n",
              "    }\n",
              "  }\n",
              "\n",
              "  \n",
              "  if (typeof (root._bokeh_timeout) === \"undefined\" || force === true) {\n",
              "    root._bokeh_timeout = Date.now() + 5000;\n",
              "    root._bokeh_failed_load = false;\n",
              "  }\n",
              "\n",
              "  var NB_LOAD_WARNING = {'data': {'text/html':\n",
              "     \"<div style='background-color: #fdd'>\\n\"+\n",
              "     \"<p>\\n\"+\n",
              "     \"BokehJS does not appear to have successfully loaded. If loading BokehJS from CDN, this \\n\"+\n",
              "     \"may be due to a slow or bad network connection. Possible fixes:\\n\"+\n",
              "     \"</p>\\n\"+\n",
              "     \"<ul>\\n\"+\n",
              "     \"<li>re-rerun `output_notebook()` to attempt to load from CDN again, or</li>\\n\"+\n",
              "     \"<li>use INLINE resources instead, as so:</li>\\n\"+\n",
              "     \"</ul>\\n\"+\n",
              "     \"<code>\\n\"+\n",
              "     \"from bokeh.resources import INLINE\\n\"+\n",
              "     \"output_notebook(resources=INLINE)\\n\"+\n",
              "     \"</code>\\n\"+\n",
              "     \"</div>\"}};\n",
              "\n",
              "  function display_loaded() {\n",
              "    var el = document.getElementById(null);\n",
              "    if (el != null) {\n",
              "      el.textContent = \"BokehJS is loading...\";\n",
              "    }\n",
              "    if (root.Bokeh !== undefined) {\n",
              "      if (el != null) {\n",
              "        el.textContent = \"BokehJS \" + root.Bokeh.version + \" successfully loaded.\";\n",
              "      }\n",
              "    } else if (Date.now() < root._bokeh_timeout) {\n",
              "      setTimeout(display_loaded, 100)\n",
              "    }\n",
              "  }\n",
              "\n",
              "\n",
              "  function run_callbacks() {\n",
              "    try {\n",
              "      root._bokeh_onload_callbacks.forEach(function(callback) {\n",
              "        if (callback != null)\n",
              "          callback();\n",
              "      });\n",
              "    } finally {\n",
              "      delete root._bokeh_onload_callbacks\n",
              "    }\n",
              "    console.debug(\"Bokeh: all callbacks have finished\");\n",
              "  }\n",
              "\n",
              "  function load_libs(css_urls, js_urls, callback) {\n",
              "    if (css_urls == null) css_urls = [];\n",
              "    if (js_urls == null) js_urls = [];\n",
              "\n",
              "    root._bokeh_onload_callbacks.push(callback);\n",
              "    if (root._bokeh_is_loading > 0) {\n",
              "      console.debug(\"Bokeh: BokehJS is being loaded, scheduling callback at\", now());\n",
              "      return null;\n",
              "    }\n",
              "    if (js_urls == null || js_urls.length === 0) {\n",
              "      run_callbacks();\n",
              "      return null;\n",
              "    }\n",
              "    console.debug(\"Bokeh: BokehJS not loaded, scheduling load and callback at\", now());\n",
              "    root._bokeh_is_loading = css_urls.length + js_urls.length;\n",
              "\n",
              "    function on_load() {\n",
              "      root._bokeh_is_loading--;\n",
              "      if (root._bokeh_is_loading === 0) {\n",
              "        console.debug(\"Bokeh: all BokehJS libraries/stylesheets loaded\");\n",
              "        run_callbacks()\n",
              "      }\n",
              "    }\n",
              "\n",
              "    function on_error() {\n",
              "      console.error(\"failed to load \" + url);\n",
              "    }\n",
              "\n",
              "    for (var i = 0; i < css_urls.length; i++) {\n",
              "      var url = css_urls[i];\n",
              "      const element = document.createElement(\"link\");\n",
              "      element.onload = on_load;\n",
              "      element.onerror = on_error;\n",
              "      element.rel = \"stylesheet\";\n",
              "      element.type = \"text/css\";\n",
              "      element.href = url;\n",
              "      console.debug(\"Bokeh: injecting link tag for BokehJS stylesheet: \", url);\n",
              "      document.body.appendChild(element);\n",
              "    }\n",
              "\n",
              "    for (var i = 0; i < js_urls.length; i++) {\n",
              "      var url = js_urls[i];\n",
              "      var element = document.createElement('script');\n",
              "      element.onload = on_load;\n",
              "      element.onerror = on_error;\n",
              "      element.async = false;\n",
              "      element.src = url;\n",
              "      \n",
              "      console.debug(\"Bokeh: injecting script tag for BokehJS library: \", url);\n",
              "      document.head.appendChild(element);\n",
              "    }\n",
              "  };\n",
              "\n",
              "  function inject_raw_css(css) {\n",
              "    const element = document.createElement(\"style\");\n",
              "    element.appendChild(document.createTextNode(css));\n",
              "    document.body.appendChild(element);\n",
              "  }\n",
              "\n",
              "  \n",
              "  var js_urls = [\"https://cdn.bokeh.org/bokeh/release/bokeh-2.0.0.min.js\", \"https://cdn.bokeh.org/bokeh/release/bokeh-widgets-2.0.0.min.js\", \"https://cdn.bokeh.org/bokeh/release/bokeh-tables-2.0.0.min.js\", \"https://cdn.bokeh.org/bokeh/release/bokeh-gl-2.0.0.min.js\"];\n",
              "  var css_urls = [];\n",
              "  \n",
              "\n",
              "  var inline_js = [\n",
              "    function(Bokeh) {\n",
              "      Bokeh.set_log_level(\"info\");\n",
              "    },\n",
              "    function(Bokeh) {\n",
              "    \n",
              "    \n",
              "    }\n",
              "  ];\n",
              "\n",
              "  function run_inline_js() {\n",
              "    \n",
              "    if (root.Bokeh !== undefined || force === true) {\n",
              "      \n",
              "    for (var i = 0; i < inline_js.length; i++) {\n",
              "      inline_js[i].call(root, root.Bokeh);\n",
              "    }\n",
              "    } else if (Date.now() < root._bokeh_timeout) {\n",
              "      setTimeout(run_inline_js, 100);\n",
              "    } else if (!root._bokeh_failed_load) {\n",
              "      console.log(\"Bokeh: BokehJS failed to load within specified timeout.\");\n",
              "      root._bokeh_failed_load = true;\n",
              "    } else if (force !== true) {\n",
              "      var cell = $(document.getElementById(null)).parents('.cell').data().cell;\n",
              "      cell.output_area.append_execute_result(NB_LOAD_WARNING)\n",
              "    }\n",
              "\n",
              "  }\n",
              "\n",
              "  if (root._bokeh_is_loading === 0) {\n",
              "    console.debug(\"Bokeh: BokehJS loaded, going straight to plotting\");\n",
              "    run_inline_js();\n",
              "  } else {\n",
              "    load_libs(css_urls, js_urls, function() {\n",
              "      console.debug(\"Bokeh: BokehJS plotting callback run at\", now());\n",
              "      run_inline_js();\n",
              "    });\n",
              "  }\n",
              "}(window));"
            ],
            "application/vnd.bokehjs_load.v0+json": "\n(function(root) {\n  function now() {\n    return new Date();\n  }\n\n  var force = true;\n\n  if (typeof root._bokeh_onload_callbacks === \"undefined\" || force === true) {\n    root._bokeh_onload_callbacks = [];\n    root._bokeh_is_loading = undefined;\n  }\n\n  \n\n  \n  if (typeof (root._bokeh_timeout) === \"undefined\" || force === true) {\n    root._bokeh_timeout = Date.now() + 5000;\n    root._bokeh_failed_load = false;\n  }\n\n  var NB_LOAD_WARNING = {'data': {'text/html':\n     \"<div style='background-color: #fdd'>\\n\"+\n     \"<p>\\n\"+\n     \"BokehJS does not appear to have successfully loaded. If loading BokehJS from CDN, this \\n\"+\n     \"may be due to a slow or bad network connection. Possible fixes:\\n\"+\n     \"</p>\\n\"+\n     \"<ul>\\n\"+\n     \"<li>re-rerun `output_notebook()` to attempt to load from CDN again, or</li>\\n\"+\n     \"<li>use INLINE resources instead, as so:</li>\\n\"+\n     \"</ul>\\n\"+\n     \"<code>\\n\"+\n     \"from bokeh.resources import INLINE\\n\"+\n     \"output_notebook(resources=INLINE)\\n\"+\n     \"</code>\\n\"+\n     \"</div>\"}};\n\n  function display_loaded() {\n    var el = document.getElementById(null);\n    if (el != null) {\n      el.textContent = \"BokehJS is loading...\";\n    }\n    if (root.Bokeh !== undefined) {\n      if (el != null) {\n        el.textContent = \"BokehJS \" + root.Bokeh.version + \" successfully loaded.\";\n      }\n    } else if (Date.now() < root._bokeh_timeout) {\n      setTimeout(display_loaded, 100)\n    }\n  }\n\n\n  function run_callbacks() {\n    try {\n      root._bokeh_onload_callbacks.forEach(function(callback) {\n        if (callback != null)\n          callback();\n      });\n    } finally {\n      delete root._bokeh_onload_callbacks\n    }\n    console.debug(\"Bokeh: all callbacks have finished\");\n  }\n\n  function load_libs(css_urls, js_urls, callback) {\n    if (css_urls == null) css_urls = [];\n    if (js_urls == null) js_urls = [];\n\n    root._bokeh_onload_callbacks.push(callback);\n    if (root._bokeh_is_loading > 0) {\n      console.debug(\"Bokeh: BokehJS is being loaded, scheduling callback at\", now());\n      return null;\n    }\n    if (js_urls == null || js_urls.length === 0) {\n      run_callbacks();\n      return null;\n    }\n    console.debug(\"Bokeh: BokehJS not loaded, scheduling load and callback at\", now());\n    root._bokeh_is_loading = css_urls.length + js_urls.length;\n\n    function on_load() {\n      root._bokeh_is_loading--;\n      if (root._bokeh_is_loading === 0) {\n        console.debug(\"Bokeh: all BokehJS libraries/stylesheets loaded\");\n        run_callbacks()\n      }\n    }\n\n    function on_error() {\n      console.error(\"failed to load \" + url);\n    }\n\n    for (var i = 0; i < css_urls.length; i++) {\n      var url = css_urls[i];\n      const element = document.createElement(\"link\");\n      element.onload = on_load;\n      element.onerror = on_error;\n      element.rel = \"stylesheet\";\n      element.type = \"text/css\";\n      element.href = url;\n      console.debug(\"Bokeh: injecting link tag for BokehJS stylesheet: \", url);\n      document.body.appendChild(element);\n    }\n\n    for (var i = 0; i < js_urls.length; i++) {\n      var url = js_urls[i];\n      var element = document.createElement('script');\n      element.onload = on_load;\n      element.onerror = on_error;\n      element.async = false;\n      element.src = url;\n      \n      console.debug(\"Bokeh: injecting script tag for BokehJS library: \", url);\n      document.head.appendChild(element);\n    }\n  };\n\n  function inject_raw_css(css) {\n    const element = document.createElement(\"style\");\n    element.appendChild(document.createTextNode(css));\n    document.body.appendChild(element);\n  }\n\n  \n  var js_urls = [\"https://cdn.bokeh.org/bokeh/release/bokeh-2.0.0.min.js\", \"https://cdn.bokeh.org/bokeh/release/bokeh-widgets-2.0.0.min.js\", \"https://cdn.bokeh.org/bokeh/release/bokeh-tables-2.0.0.min.js\", \"https://cdn.bokeh.org/bokeh/release/bokeh-gl-2.0.0.min.js\"];\n  var css_urls = [];\n  \n\n  var inline_js = [\n    function(Bokeh) {\n      Bokeh.set_log_level(\"info\");\n    },\n    function(Bokeh) {\n    \n    \n    }\n  ];\n\n  function run_inline_js() {\n    \n    if (root.Bokeh !== undefined || force === true) {\n      \n    for (var i = 0; i < inline_js.length; i++) {\n      inline_js[i].call(root, root.Bokeh);\n    }\n    } else if (Date.now() < root._bokeh_timeout) {\n      setTimeout(run_inline_js, 100);\n    } else if (!root._bokeh_failed_load) {\n      console.log(\"Bokeh: BokehJS failed to load within specified timeout.\");\n      root._bokeh_failed_load = true;\n    } else if (force !== true) {\n      var cell = $(document.getElementById(null)).parents('.cell').data().cell;\n      cell.output_area.append_execute_result(NB_LOAD_WARNING)\n    }\n\n  }\n\n  if (root._bokeh_is_loading === 0) {\n    console.debug(\"Bokeh: BokehJS loaded, going straight to plotting\");\n    run_inline_js();\n  } else {\n    load_libs(css_urls, js_urls, function() {\n      console.debug(\"Bokeh: BokehJS plotting callback run at\", now());\n      run_inline_js();\n    });\n  }\n}(window));"
          },
          "metadata": {
            "tags": []
          }
        },
        {
          "output_type": "display_data",
          "data": {
            "text/html": [
              "\n",
              "\n",
              "\n",
              "\n",
              "\n",
              "\n",
              "  <div class=\"bk-root\" id=\"b7b8435e-eeb1-4c41-93c3-34c2167a70a3\" data-root-id=\"1001\"></div>\n"
            ]
          },
          "metadata": {
            "tags": []
          }
        },
        {
          "output_type": "display_data",
          "data": {
            "application/javascript": [
              "(function(root) {\n",
              "  function embed_document(root) {\n",
              "    \n",
              "  var docs_json = {\"d09f1f66-85b1-46cc-9028-d23150f459cf\":{\"roots\":{\"references\":[{\"attributes\":{\"below\":[{\"id\":\"1012\"}],\"center\":[{\"id\":\"1015\"},{\"id\":\"1019\"}],\"left\":[{\"id\":\"1016\"}],\"plot_height\":350,\"plot_width\":950,\"renderers\":[{\"id\":\"1037\"},{\"id\":\"1043\"}],\"title\":{\"id\":\"1002\"},\"toolbar\":{\"id\":\"1026\"},\"x_range\":{\"id\":\"1004\"},\"x_scale\":{\"id\":\"1008\"},\"y_range\":{\"id\":\"1006\"},\"y_scale\":{\"id\":\"1010\"}},\"id\":\"1001\",\"subtype\":\"Figure\",\"type\":\"Plot\"},{\"attributes\":{},\"id\":\"1065\",\"type\":\"Selection\"},{\"attributes\":{},\"id\":\"1066\",\"type\":\"UnionRenderers\"},{\"attributes\":{\"fill_alpha\":{\"value\":0.1},\"fill_color\":{\"value\":\"#4fa8f6\"},\"line_alpha\":{\"value\":0.1},\"line_color\":{\"value\":\"#4fa8f6\"},\"size\":{\"units\":\"screen\",\"value\":5},\"x\":{\"field\":\"response_datetime_interval\"},\"y\":{\"field\":\"Coverage\"}},\"id\":\"1042\",\"type\":\"Circle\"},{\"attributes\":{\"fill_color\":{\"value\":\"#4fa8f6\"},\"line_color\":{\"value\":\"#4fa8f6\"},\"size\":{\"units\":\"screen\",\"value\":5},\"x\":{\"field\":\"response_datetime_interval\"},\"y\":{\"field\":\"Coverage\"}},\"id\":\"1041\",\"type\":\"Circle\"},{\"attributes\":{},\"id\":\"1067\",\"type\":\"Selection\"},{\"attributes\":{\"days\":[\"%Y-%m-%d %H:%M:%S\"],\"hourmin\":[\"%Y-%m-%d %H:%M:%S\"],\"hours\":[\"%Y-%m-%d %H:%M:%S\"],\"minsec\":[\"%Y-%m-%d %H:%M:%S\"],\"minutes\":[\"%Y-%m-%d %H:%M:%S\"],\"months\":[\"%Y-%m-%d %H:%M:%S\"],\"seconds\":[\"%Y-%m-%d %H:%M:%S\"],\"years\":[\"%Y-%m-%d %H:%M:%S\"]},\"id\":\"1045\",\"type\":\"DatetimeTickFormatter\"},{\"attributes\":{},\"id\":\"1020\",\"type\":\"PanTool\"},{\"attributes\":{\"data_source\":{\"id\":\"1039\"},\"glyph\":{\"id\":\"1041\"},\"hover_glyph\":null,\"muted_glyph\":null,\"nonselection_glyph\":{\"id\":\"1042\"},\"selection_glyph\":null,\"view\":{\"id\":\"1044\"}},\"id\":\"1043\",\"type\":\"GlyphRenderer\"},{\"attributes\":{\"data_source\":{\"id\":\"1033\"},\"glyph\":{\"id\":\"1035\"},\"hover_glyph\":null,\"muted_glyph\":null,\"nonselection_glyph\":{\"id\":\"1036\"},\"selection_glyph\":null,\"view\":{\"id\":\"1038\"}},\"id\":\"1037\",\"type\":\"GlyphRenderer\"},{\"attributes\":{},\"id\":\"1068\",\"type\":\"UnionRenderers\"},{\"attributes\":{\"overlay\":{\"id\":\"1069\"}},\"id\":\"1022\",\"type\":\"BoxZoomTool\"},{\"attributes\":{\"bottom_units\":\"screen\",\"fill_alpha\":0.5,\"fill_color\":\"lightgrey\",\"left_units\":\"screen\",\"level\":\"overlay\",\"line_alpha\":1.0,\"line_color\":\"black\",\"line_dash\":[4,4],\"line_width\":2,\"render_mode\":\"css\",\"right_units\":\"screen\",\"top_units\":\"screen\"},\"id\":\"1069\",\"type\":\"BoxAnnotation\"},{\"attributes\":{\"axis_label\":\"Coverage %\",\"formatter\":{\"id\":\"1051\"},\"major_label_text_font_size\":\"10pt\",\"ticker\":{\"id\":\"1017\"}},\"id\":\"1016\",\"type\":\"LinearAxis\"},{\"attributes\":{\"source\":{\"id\":\"1039\"}},\"id\":\"1044\",\"type\":\"CDSView\"},{\"attributes\":{\"callback\":null,\"formatters\":{\"@response_datetime_interval\":\"datetime\"},\"tooltips\":[[\"Datetime\",\"@response_datetime_interval{%Y-%m-%d %H:%M:%S}\"],[\"Count\",\"@Count\"],[\"Coverage\",\"@Coverage{0.00}%\"]]},\"id\":\"1047\",\"type\":\"HoverTool\"},{\"attributes\":{\"end\":1537358400000.0,\"start\":1537099200000.0},\"id\":\"1004\",\"type\":\"Range1d\"},{\"attributes\":{\"end\":100},\"id\":\"1006\",\"type\":\"Range1d\"},{\"attributes\":{},\"id\":\"1051\",\"type\":\"BasicTickFormatter\"},{\"attributes\":{\"num_minor_ticks\":5,\"tickers\":[{\"id\":\"1053\"},{\"id\":\"1054\"},{\"id\":\"1055\"},{\"id\":\"1056\"},{\"id\":\"1057\"},{\"id\":\"1058\"},{\"id\":\"1059\"},{\"id\":\"1060\"},{\"id\":\"1061\"},{\"id\":\"1062\"},{\"id\":\"1063\"},{\"id\":\"1064\"}]},\"id\":\"1013\",\"type\":\"DatetimeTicker\"},{\"attributes\":{\"active_drag\":\"auto\",\"active_inspect\":\"auto\",\"active_multi\":null,\"active_scroll\":\"auto\",\"active_tap\":\"auto\",\"tools\":[{\"id\":\"1020\"},{\"id\":\"1021\"},{\"id\":\"1022\"},{\"id\":\"1023\"},{\"id\":\"1024\"},{\"id\":\"1025\"},{\"id\":\"1047\"}]},\"id\":\"1026\",\"type\":\"Toolbar\"},{\"attributes\":{\"mantissas\":[1,2,5],\"max_interval\":500.0,\"num_minor_ticks\":0},\"id\":\"1053\",\"type\":\"AdaptiveTicker\"},{\"attributes\":{},\"id\":\"1021\",\"type\":\"WheelZoomTool\"},{\"attributes\":{},\"id\":\"1008\",\"type\":\"LinearScale\"},{\"attributes\":{\"align\":\"center\",\"text\":\"Coverage over time\",\"text_font_size\":{\"value\":\"12pt\"}},\"id\":\"1002\",\"type\":\"Title\"},{\"attributes\":{},\"id\":\"1023\",\"type\":\"SaveTool\"},{\"attributes\":{\"data\":{\"Count\":[2672,2613,1511],\"Coverage\":{\"__ndarray__\":\"CtejcD1KVkDNzMzMzKxWQArXo3A9qlRA\",\"dtype\":\"float64\",\"shape\":[3]},\"Covered\":[true,true,true],\"index\":[0,1,2],\"response_datetime_interval\":{\"__ndarray__\":\"AABAOk1edkIAAACgn152QgAAwAXyXnZC\",\"dtype\":\"float64\",\"shape\":[3]}},\"selected\":{\"id\":\"1065\"},\"selection_policy\":{\"id\":\"1066\"}},\"id\":\"1033\",\"type\":\"ColumnDataSource\"},{\"attributes\":{},\"id\":\"1010\",\"type\":\"LinearScale\"},{\"attributes\":{\"base\":60,\"mantissas\":[1,2,5,10,15,20,30],\"max_interval\":1800000.0,\"min_interval\":1000.0,\"num_minor_ticks\":0},\"id\":\"1054\",\"type\":\"AdaptiveTicker\"},{\"attributes\":{\"base\":24,\"mantissas\":[1,2,4,6,8,12],\"max_interval\":43200000.0,\"min_interval\":3600000.0,\"num_minor_ticks\":0},\"id\":\"1055\",\"type\":\"AdaptiveTicker\"},{\"attributes\":{},\"id\":\"1024\",\"type\":\"ResetTool\"},{\"attributes\":{\"axis\":{\"id\":\"1016\"},\"dimension\":1,\"ticker\":null},\"id\":\"1019\",\"type\":\"Grid\"},{\"attributes\":{\"days\":[1,2,3,4,5,6,7,8,9,10,11,12,13,14,15,16,17,18,19,20,21,22,23,24,25,26,27,28,29,30,31]},\"id\":\"1056\",\"type\":\"DaysTicker\"},{\"attributes\":{\"days\":[1,4,7,10,13,16,19,22,25,28]},\"id\":\"1057\",\"type\":\"DaysTicker\"},{\"attributes\":{},\"id\":\"1025\",\"type\":\"HelpTool\"},{\"attributes\":{\"days\":[1,8,15,22]},\"id\":\"1058\",\"type\":\"DaysTicker\"},{\"attributes\":{\"line_color\":\"#4fa8f6\",\"line_width\":1.5,\"x\":{\"field\":\"response_datetime_interval\"},\"y\":{\"field\":\"Coverage\"}},\"id\":\"1035\",\"type\":\"Line\"},{\"attributes\":{\"months\":[0,1,2,3,4,5,6,7,8,9,10,11]},\"id\":\"1060\",\"type\":\"MonthsTicker\"},{\"attributes\":{\"formatter\":{\"id\":\"1045\"},\"major_label_orientation\":0.5,\"major_label_text_font_size\":\"10pt\",\"ticker\":{\"id\":\"1013\"}},\"id\":\"1012\",\"type\":\"DatetimeAxis\"},{\"attributes\":{\"days\":[1,15]},\"id\":\"1059\",\"type\":\"DaysTicker\"},{\"attributes\":{\"line_alpha\":0.1,\"line_color\":\"#4fa8f6\",\"line_width\":1.5,\"x\":{\"field\":\"response_datetime_interval\"},\"y\":{\"field\":\"Coverage\"}},\"id\":\"1036\",\"type\":\"Line\"},{\"attributes\":{\"months\":[0,2,4,6,8,10]},\"id\":\"1061\",\"type\":\"MonthsTicker\"},{\"attributes\":{\"data\":{\"Count\":[2672,2613,1511],\"Coverage\":{\"__ndarray__\":\"CtejcD1KVkDNzMzMzKxWQArXo3A9qlRA\",\"dtype\":\"float64\",\"shape\":[3]},\"Covered\":[true,true,true],\"index\":[0,1,2],\"response_datetime_interval\":{\"__ndarray__\":\"AABAOk1edkIAAACgn152QgAAwAXyXnZC\",\"dtype\":\"float64\",\"shape\":[3]}},\"selected\":{\"id\":\"1067\"},\"selection_policy\":{\"id\":\"1068\"}},\"id\":\"1039\",\"type\":\"ColumnDataSource\"},{\"attributes\":{\"axis\":{\"id\":\"1012\"},\"ticker\":null},\"id\":\"1015\",\"type\":\"Grid\"},{\"attributes\":{\"months\":[0,6]},\"id\":\"1063\",\"type\":\"MonthsTicker\"},{\"attributes\":{\"source\":{\"id\":\"1033\"}},\"id\":\"1038\",\"type\":\"CDSView\"},{\"attributes\":{},\"id\":\"1017\",\"type\":\"BasicTicker\"},{\"attributes\":{},\"id\":\"1064\",\"type\":\"YearsTicker\"},{\"attributes\":{\"months\":[0,4,8]},\"id\":\"1062\",\"type\":\"MonthsTicker\"}],\"root_ids\":[\"1001\"]},\"title\":\"Bokeh Application\",\"version\":\"2.0.0\"}};\n",
              "  var render_items = [{\"docid\":\"d09f1f66-85b1-46cc-9028-d23150f459cf\",\"root_ids\":[\"1001\"],\"roots\":{\"1001\":\"b7b8435e-eeb1-4c41-93c3-34c2167a70a3\"}}];\n",
              "  root.Bokeh.embed.embed_items_notebook(docs_json, render_items);\n",
              "\n",
              "  }\n",
              "  if (root.Bokeh !== undefined) {\n",
              "    embed_document(root);\n",
              "  } else {\n",
              "    var attempts = 0;\n",
              "    var timer = setInterval(function(root) {\n",
              "      if (root.Bokeh !== undefined) {\n",
              "        clearInterval(timer);\n",
              "        embed_document(root);\n",
              "      } else {\n",
              "        attempts++;\n",
              "        if (attempts > 100) {\n",
              "          clearInterval(timer);\n",
              "          console.log(\"Bokeh: ERROR: Unable to run BokehJS code because BokehJS library is missing\");\n",
              "        }\n",
              "      }\n",
              "    }, 10, root)\n",
              "  }\n",
              "})(window);"
            ],
            "application/vnd.bokehjs_exec.v0+json": ""
          },
          "metadata": {
            "tags": [],
            "application/vnd.bokehjs_exec.v0+json": {
              "id": "1001"
            }
          }
        }
      ]
    },
    {
      "cell_type": "markdown",
      "metadata": {
        "id": "PmMCsPyETxfa",
        "colab_type": "text"
      },
      "source": [
        "<a id=\"conv_analysis\"></a>\n",
        "## 6. Analyze effectiveness\n",
        "\n",
        "Here, we take a deeper look at the effectiveness of your assistant."
      ]
    },
    {
      "cell_type": "code",
      "metadata": {
        "id": "1oHYWXnUTxfc",
        "colab_type": "code",
        "colab": {}
      },
      "source": [
        "# Get the escalated conversations\n",
        "df_effective_true = df_effective.loc[df_effective['Escalated_conversation']==True]\n",
        "\n",
        "# Get the non-escalated conversations\n",
        "df_not_effective = df_effective.loc[df_effective['Escalated_conversation']==False]\n",
        "\n",
        "# Calculate percentage of escalated conversations\n",
        "ef_escalated = float(\"{0:.2f}\".format(100-effective_perc))\n",
        "\n",
        "# Calculate coverage and non-coverage in escalated conversations\n",
        "if len(df_effective_true) > 0:\n",
        "    escalated_covered = float(\"{0:.2f}\".format((df_effective_true['Covered'].value_counts().to_frame()['Covered'][True]/df_effective_true['Covered'].value_counts().sum())*100))\n",
        "    escalated_not_covered = float(\"{0:.2f}\".format(100- escalated_covered))\n",
        "else:\n",
        "    escalated_covered = 0\n",
        "    escalated_not_covered = 0\n",
        "\n",
        "# Calculate coverage and non-coverage in non-escalated conversations\n",
        "if len(df_not_effective) > 0:\n",
        "    not_escalated_covered = float(\"{0:.2f}\".format((df_not_effective['Covered'].value_counts().to_frame()['Covered'][True]/df_not_effective['Covered'].value_counts().sum())*100))\n",
        "    not_escalated_not_covered = float(\"{0:.2f}\".format(100 - not_escalated_covered))\n",
        "else:\n",
        "    not_escalated_covered = 0\n",
        "    not_escalated_not_covered = 0\n",
        "\n",
        "# Calculate average confidence of escalated conversations\n",
        "if len(df_effective_true) > 0:\n",
        "    esc_avg_conf = float(\"{0:.2f}\".format(df_effective_true[df_effective_true['Covered']==True]['response.top_intent_confidence'].mean()*100))\n",
        "else:\n",
        "    esc_avg_conf = 0\n",
        "    \n",
        "# Calculate average confidence of non-escalated conversations\n",
        "if len(df_not_effective) > 0:\n",
        "    not_esc_avg_conf = float(\"{0:.2f}\".format(df_not_effective[df_not_effective['Covered']==True]['response.top_intent_confidence'].mean()*100))\n",
        "else:\n",
        "    not_esc_avg_conf = 0"
      ],
      "execution_count": 0,
      "outputs": []
    },
    {
      "cell_type": "markdown",
      "metadata": {
        "id": "dhqRT8qwTxfi",
        "colab_type": "text"
      },
      "source": [
        "###  6.1 Generate excel file and upload to our project<a id=\"conv_analysis1\"></a>"
      ]
    },
    {
      "cell_type": "code",
      "metadata": {
        "id": "OzjsxzlfTxfj",
        "colab_type": "code",
        "colab": {}
      },
      "source": [
        "# Copy the effective dataframe\n",
        "df_excel = df_effective.copy(deep=True)\n",
        "# Rename columns to generate excel\n",
        "df_excel = df_excel.rename(columns={'log_id':'Log ID', 'response.context.conversation_id':'Conversation ID',\n",
        "                           'response.timestamp':'Response Timestamp',\n",
        "                           'request_input':'Utterance Text',\n",
        "                           'response_text':'Response Text', 'response.top_intent_intent':'Detected top intent',\n",
        "                           'response.top_intent_confidence':'Detected top intent confidence',\n",
        "                           'Intent 2 intent': 'Intent 2', 'Intent 2 confidence':'Intent 2 Confidence', \n",
        "                           'Intent 3 intent': 'Intent 3', 'Intent 3 confidence':'Intent 3 Confidence',\n",
        "                           'response_entities':'Detected Entities', 'Escalated_conversation':'Escalated conversation?',\n",
        "                           'Covered':'Covered?', 'Not Covered cause':'Not covered - cause',\n",
        "                           'response.output.nodes_visited_s':'Dialog Flow', 'response_dialog_stack':'Dialog stack',\n",
        "                           'response_dialog_request_counter':'Dialog request counter', 'response_dialog_turn_counter':'Dialog turn counter'\n",
        "                           })\n",
        "\n",
        "existing_columns = ['Log ID', 'Conversation ID', 'Response Timestamp', 'Customer ID (must retain for delete)',\n",
        "                    'Utterance Text', 'Response Text', 'Detected top intent', 'Detected top intent confidence',\n",
        "                    'Intent 2', 'Intent 2 Confidence', 'Confidence gap (between 1 and 2)', 'Intent 3', 'Intent 3 Confidence',\n",
        "                    'Detected Entities', 'Escalated conversation?', 'Covered?', 'Not covered - cause',\n",
        "                    'Dialog Flow', 'Dialog stack', 'Dialog request counter', 'Dialog turn counter']\n",
        "# Add new columns for annotating problematic logs\n",
        "new_columns_excel = ['Response Correct (Y/N)?', 'Response Helpful (Y/N)?', 'Root cause (Problem with Intent, entity, dialog)',\n",
        "                     'Wrong intent? If yes, put the correct intent. Otherwise leave it blank', 'New intent needed? (A new intent. Otherwise leave blank)',\n",
        "                     'Add Utterance to Training data (Y/N)', 'Entity missed? If yes, put the missed entity value. Otherwise leave it blank', 'New entity needed? If yes, put the entity name',\n",
        "                     'New entity value? If yes, put the entity value', 'New dialog logic needed?', 'Wrong dialog node? If yes, put the node name. Otherwise leave it blank','No dialog node triggered']\n",
        "\n",
        "# Add the new columns to the dataframe\n",
        "df_excel = df_excel.reindex(columns=[*existing_columns, *new_columns_excel], fill_value='')"
      ],
      "execution_count": 0,
      "outputs": []
    },
    {
      "cell_type": "code",
      "metadata": {
        "id": "tQy5Dv6bTxft",
        "colab_type": "code",
        "colab": {}
      },
      "source": [
        "# Set maximum sampling size\n",
        "SAMPLE_SIZE = 200\n",
        "\n",
        "# Set output filename\n",
        "all_file = 'All.xlsx'\n",
        "escalated_sample_file = 'Escalated_sample.xlsx'\n",
        "non_escalated_sample_file = 'NotEscalated_sample.xlsx'\n",
        "\n",
        "# Generate all covered sample file\n",
        "df_covered = df_excel[df_excel['Covered?']==True].reset_index(drop=True)\n",
        "\n",
        "# Generate all not covered sample file\n",
        "df_not_covered = df_excel[df_excel['Covered?']==False].reset_index(drop=True)\n",
        "\n",
        "\n",
        "df_covered['Response Timestamp'] = df_covered['Response Timestamp'].dt.tz_localize(None)\n",
        "df_not_covered['Response Timestamp'] = df_not_covered['Response Timestamp'].dt.tz_localize(None)\n",
        "\n",
        "\n",
        "# Convert to Excel format and upload to COS\n",
        "generate_excel_measure([df_covered,df_not_covered], ['Covered', 'Not_Covered'], filename=all_file, project_io=None)\n",
        "\n",
        "# Generate escalated and covered sample file\n",
        "df_escalated_true = df_excel.loc[df_excel['Escalated conversation?']==True]\n",
        "df_escalated_covered = df_escalated_true[df_escalated_true['Covered?']==True]\n",
        "if len(df_escalated_covered) > 0:\n",
        "    df_escalated_covered = df_escalated_covered.sample(n=min(len(df_escalated_covered), SAMPLE_SIZE), random_state=1).reset_index(drop=True)\n",
        "\n",
        "# Generate escalated but not covered sample file\n",
        "df_escalated_not_covered = df_escalated_true[df_escalated_true['Covered?']==False]\n",
        "if len(df_escalated_not_covered) > 0:\n",
        "    df_escalated_not_covered = df_escalated_not_covered.sample(n=min(len(df_escalated_not_covered), SAMPLE_SIZE), random_state=1).reset_index(drop=True)\n",
        "\n",
        "df_escalated_covered['Response Timestamp'] = df_escalated_covered['Response Timestamp'].dt.tz_localize(None)\n",
        "df_escalated_not_covered['Response Timestamp'] = df_escalated_not_covered['Response Timestamp'].dt.tz_localize(None)\n",
        "# Covert to Excel format and upload to COS\n",
        "generate_excel_measure([df_escalated_covered,df_escalated_not_covered], ['Covered', 'Not_Covered'], filename=escalated_sample_file, project_io=None)\n",
        "\n",
        "# Generate not escalated but covered sample file\n",
        "df_not_escalated = df_excel.loc[df_excel['Escalated conversation?']==False]\n",
        "df_not_escalated_covered = df_not_escalated[df_not_escalated['Covered?']==True]\n",
        "if len(df_not_escalated_covered) > 0:\n",
        "    df_not_escalated_covered = df_not_escalated_covered.sample(n=min(len(df_not_escalated_covered), SAMPLE_SIZE), random_state=1).reset_index(drop=True)\n",
        "\n",
        "# Generate not escalated and not covered sample file\n",
        "df_not_escalated_not_covered = df_not_escalated[df_not_escalated['Covered?']==False]\n",
        "if len(df_not_escalated_not_covered) > 0:\n",
        "    df_not_escalated_not_covered = df_not_escalated_covered.sample(n=min(len(df_not_escalated_not_covered), SAMPLE_SIZE), random_state=1).reset_index(drop=True)\n",
        "\n",
        "df_not_escalated_covered['Response Timestamp'] = df_not_escalated_covered['Response Timestamp'].dt.tz_localize(None)\n",
        "df_not_escalated_not_covered['Response Timestamp'] = df_not_escalated_not_covered['Response Timestamp'].dt.tz_localize(None)\n",
        "\n",
        "# Covert to Excel format and upload to COS\n",
        "generate_excel_measure([df_not_escalated_covered,df_not_escalated_not_covered], ['Covered', 'Not_Covered'], filename=non_escalated_sample_file, project_io=None)"
      ],
      "execution_count": 0,
      "outputs": []
    },
    {
      "cell_type": "markdown",
      "metadata": {
        "id": "d6YY7zF7Txf2",
        "colab_type": "text"
      },
      "source": [
        "###  6.2 Plot breakdown by effectiveness graph<a id=\"conv_analysis2\"></a>"
      ]
    },
    {
      "cell_type": "code",
      "metadata": {
        "id": "c693QPbnTxf3",
        "colab_type": "code",
        "colab": {},
        "outputId": "0f3207cd-2207-43f4-b449-d9c53a73834f"
      },
      "source": [
        "# Get the links to the excels\n",
        "all_html_link = '<a href={} target=\"_blank\">All.xlsx</a>'.format(all_file)\n",
        "escalated_html_link = '<a href={} target=\"_blank\">Escalated_sample.xlsx</a>'.format(escalated_sample_file)\n",
        "not_escalated_html_link = '<a href={} target=\"_blank\">NotEscalated_sample.xlsx</a>'.format(non_escalated_sample_file)\n",
        "\n",
        "# Embed the links in HTML table format\n",
        "link_html = '<tr><th colspan=\"4\"><div align=\"left\"><a id=\"file_list\"></a>View the lists here: {}&nbsp;&nbsp;&nbsp;{}&nbsp;&nbsp;&nbsp;{}</div></th></tr>'.format(all_html_link, escalated_html_link, not_escalated_html_link)\n",
        "\n",
        "if 100-effective_perc > 0:\n",
        "    escalated_bar = coverage_barh(escalated_covered, esc_avg_conf, '', True, 15, width_bar(100-effective_perc))\n",
        "else:\n",
        "    escalated_bar = ''\n",
        "\n",
        "if effective_perc > 0: \n",
        "    non_escalated_bar = coverage_barh(not_escalated_covered, not_esc_avg_conf, '' , True , 15,width_bar(effective_perc))\n",
        "else:\n",
        "    non_escalated_bar = ''\n",
        "\n",
        "# Plot the results\n",
        "HTML('<tr><th colspan=\"4\"><div align=\"left\"><h2>Breakdown by effectiveness<hr/></h2></div></th></tr>\\\n",
        "'+ link_html + '<tr><td style= \"border-right: 1px solid black; border-bottom: 1px solid black; width : 400px\"><div align=\"left\"><strong>Effectiveness (Escalated)&nbsp;</br>\\\n",
        "<font size=\"5\">{ef_escalated}%</strong></font size></br></div></td>\\\n",
        "    <td style=\"width:1000px; height=100;\">{one}</td></tr>\\\n",
        "<tr><td style= \"border-right: 1px solid black; border-bottom: 1px solid black; width : 400px;\"><div align=\"left\"><strong>Effectiveness (Not escalated)&nbsp;</br>\\\n",
        "<font size=\"5\">{effective_perc}%</strong></font size></br></div></td>\\\n",
        "    <td style=\"width:1000px; height=100;border-bottom: 1px solid black;\">{two}</td>\\\n",
        "</tr>'.format(ef_escalated= ef_escalated,\n",
        "              one = escalated_bar, \n",
        "              effective_perc = effective_perc, \n",
        "              two = non_escalated_bar)) \n"
      ],
      "execution_count": 0,
      "outputs": [
        {
          "output_type": "execute_result",
          "data": {
            "text/html": [
              "<tr><th colspan=\"4\"><div align=\"left\"><h2>Breakdown by effectiveness<hr/></h2></div></th></tr><tr><th colspan=\"4\"><div align=\"left\"><a id=\"file_list\"></a>View the lists here: <a href=All.xlsx target=\"_blank\">All.xlsx</a>&nbsp;&nbsp;&nbsp;<a href=Escalated_sample.xlsx target=\"_blank\">Escalated_sample.xlsx</a>&nbsp;&nbsp;&nbsp;<a href=NotEscalated_sample.xlsx target=\"_blank\">NotEscalated_sample.xlsx</a></div></th></tr><tr><td style= \"border-right: 1px solid black; border-bottom: 1px solid black; width : 400px\"><div align=\"left\"><strong>Effectiveness (Escalated)&nbsp;</br><font size=\"5\">2.29%</strong></font size></br></div></td>    <td style=\"width:1000px; height=100;\"><img class=\"colimg\" src='data:image/png;base64,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'></td></tr><tr><td style= \"border-right: 1px solid black; border-bottom: 1px solid black; width : 400px;\"><div align=\"left\"><strong>Effectiveness (Not escalated)&nbsp;</br><font size=\"5\">97.71%</strong></font size></br></div></td>    <td style=\"width:1000px; height=100;border-bottom: 1px solid black;\"><img class=\"colimg\" src='data:image/png;base64,/9j/4AAQSkZJRgABAQEASABIAAD/2wBDAAIBAQEBAQIBAQECAgICAgQDAgICAgUEBAMEBgUGBgYFBgYGBwkIBgcJBwYGCAsICQoKCgoKBggLDAsKDAkKCgr/2wBDAQICAgICAgUDAwUKBwYHCgoKCgoKCgoKCgoKCgoKCgoKCgoKCgoKCgoKCgoKCgoKCgoKCgoKCgoKCgoKCgoKCgr/wAARCAFfBDgDASIAAhEBAxEB/8QAHwAAAQUBAQEBAQEAAAAAAAAAAAECAwQFBgcICQoL/8QAtRAAAgEDAwIEAwUFBAQAAAF9AQIDAAQRBRIhMUEGE1FhByJxFDKBkaEII0KxwRVS0fAkM2JyggkKFhcYGRolJicoKSo0NTY3ODk6Q0RFRkdISUpTVFVWV1hZWmNkZWZnaGlqc3R1dnd4eXqDhIWGh4iJipKTlJWWl5iZmqKjpKWmp6ipqrKztLW2t7i5usLDxMXGx8jJytLT1NXW19jZ2uHi4+Tl5ufo6erx8vP09fb3+Pn6/8QAHwEAAwEBAQEBAQEBAQAAAAAAAAECAwQFBgcICQoL/8QAtREAAgECBAQDBAcFBAQAAQJ3AAECAxEEBSExBhJBUQdhcRMiMoEIFEKRobHBCSMzUvAVYnLRChYkNOEl8RcYGRomJygpKjU2Nzg5OkNERUZHSElKU1RVVldYWVpjZGVmZ2hpanN0dXZ3eHl6goOEhYaHiImKkpOUlZaXmJmaoqOkpaanqKmqsrO0tba3uLm6wsPExcbHyMnK0tPU1dbX2Nna4uPk5ebn6Onq8vP09fb3+Pn6/9oADAMBAAIRAxEAPwD9/KKKKACiiigAooooAKKKKACiiigAooooAKKKKACiiigAooooAKKKKACiiigAooooAKKKKACiiigAooooAKKKKACiiigAooooAKKKKACiiigAooooAKKKKACiiigAooooAKKKKACiiigAooooAKKKKACiiigAooooAKKKKACiiigAooooAKKKKACiiigAooooAKKKKACiiigAooooAKKKKACiiigAooooAKKKKACiiigAooooAKKKKACiiigAooooAKKKKACiiigAooooAKKKKACiiigAooooAKKKKACiiigAooooAKKKKACiiigAooooAKKKKACiiigAooooAKKKKACiiigAooooAKKKKACiiigAooooAKKKKACiiigAooooAKKKKACiiigAooooAKKKKACiiigAooooAKKKKACiiigAooooAKKKKACiiigAooooAKKKKACiiigAooooAKKKKACiiigAooooAKKKKACiiigAooooAKKKKACiiigAooooAKKKKACiiigAooooAKKKKACiiigAooooAKKKKACiiigAooooAKKKKACiiigAooooAKKKKACiiigAooooAKKKKACiiigAooooAKKKKACiiigAooooAKKKKACiiigAooooAKKKKACiiigAooooAKKKKACiiigAooooAKKKKACiiigAooooAKKKKACiiigAooooAKKKKACiiigAooooAKKKKACiiigAooooAKKKKACiiigAooooAKKKKACiiigAooooAKKKKACqfiHX9J8KaBfeKNfu/s9hptnLdXs/ls/lwxoXdtqgscKCcAEnHAq5XH/tC/8AJAfHP/Yn6n/6SyV0YSlGviqdKW0pRT9HKK/UxxNSVHDzqLeMZP7k3+hx/wDw3t+yd/0Vb/yhX/8A8Yo/4b2/ZO/6Kt/5Qr//AOMV+b9FfuH/ABC/IP8An5U++P8A8ifkf/EQc5/590/ul/8AJH6Qf8N7fsnf9FW/8oV//wDGKP8Ahvb9k7/oq3/lCv8A/wCMV+b9FH/EL8g/5+VPvj/8iH/EQc5/590/ul/8kfpB/wAN7fsnf9FW/wDKFf8A/wAYo/4b2/ZO/wCirf8AlCv/AP4xX5v0Uf8AEL8g/wCflT74/wDyIf8AEQc5/wCfdP7pf/JH6Qf8N7fsnf8ARVv/AChX/wD8Yo/4b2/ZO/6Kt/5Qr/8A+MV+b9FH/EL8g/5+VPvj/wDIh/xEHOf+fdP7pf8AyR+kH/De37J3/RVv/KFf/wDxij/hvb9k7/oq3/lCv/8A4xX5v0Uf8QvyD/n5U++P/wAiH/EQc5/590/ul/8AJH6Qf8N7fsnf9FW/8oV//wDGKP8Ahvb9k7/oq3/lCv8A/wCMV+b9FH/EL8g/5+VPvj/8iH/EQc5/590/ul/8kfpB/wAN7fsnf9FW/wDKFf8A/wAYo/4b2/ZO/wCirf8AlCv/AP4xX5v0Uf8AEL8g/wCflT74/wDyIf8AEQc5/wCfdP7pf/JH6Qf8N7fsnf8ARVv/AChX/wD8Yo/4b2/ZO/6Kt/5Qr/8A+MV+b9FH/EL8g/5+VPvj/wDIh/xEHOf+fdP7pf8AyR+kH/De37J3/RVv/KFf/wDxij/hvb9k7/oq3/lCv/8A4xX5v0Uf8QvyD/n5U++P/wAiH/EQc5/590/ul/8AJH6Qf8N7fsnf9FW/8oV//wDGKP8Ahvb9k7/oq3/lCv8A/wCMV+b9FH/EL8g/5+VPvj/8iH/EQc5/590/ul/8kfpB/wAN7fsnf9FW/wDKFf8A/wAYo/4b2/ZO/wCirf8AlCv/AP4xX5v0Uf8AEL8g/wCflT74/wDyIf8AEQc5/wCfdP7pf/JH6Qf8N7fsnf8ARVv/AChX/wD8Yo/4b2/ZO/6Kt/5Qr/8A+MV+b9FH/EL8g/5+VPvj/wDIh/xEHOf+fdP7pf8AyR+kH/De37J3/RVv/KFf/wDxij/hvb9k7/oq3/lCv/8A4xX5v0Uf8QvyD/n5U++P/wAiH/EQc5/590/ul/8AJH6Qf8N7fsnf9FW/8oV//wDGKP8Ahvb9k7/oq3/lCv8A/wCMV+b9FH/EL8g/5+VPvj/8iH/EQc5/590/ul/8kfpB/wAN7fsnf9FW/wDKFf8A/wAYo/4b2/ZO/wCirf8AlCv/AP4xX5v0Uf8AEL8g/wCflT74/wDyIf8AEQc5/wCfdP7pf/JH6Qf8N7fsnf8ARVv/AChX/wD8Yo/4b2/ZO/6Kt/5Qr/8A+MV+b9FH/EL8g/5+VPvj/wDIh/xEHOf+fdP7pf8AyR+kH/De37J3/RVv/KFf/wDxij/hvb9k7/oq3/lCv/8A4xX5v0Uf8QvyD/n5U++P/wAiH/EQc5/590/ul/8AJH6Qf8N7fsnf9FW/8oV//wDGKP8Ahvb9k7/oq3/lCv8A/wCMV+b9FH/EL8g/5+VPvj/8iH/EQc5/590/ul/8kfpB/wAN7fsnf9FW/wDKFf8A/wAYo/4b2/ZO/wCirf8AlCv/AP4xX5v0Uf8AEL8g/wCflT74/wDyIf8AEQc5/wCfdP7pf/JH6Qf8N7fsnf8ARVv/AChX/wD8Yo/4b2/ZO/6Kt/5Qr/8A+MV+b9FH/EL8g/5+VPvj/wDIh/xEHOf+fdP7pf8AyR+kH/De37J3/RVv/KFf/wDxij/hvb9k7/oq3/lCv/8A4xX5v0Uf8QvyD/n5U++P/wAiH/EQc5/590/ul/8AJH6Qf8N7fsnf9FW/8oV//wDGKP8Ahvb9k7/oq3/lCv8A/wCMV+b9FH/EL8g/5+VPvj/8iH/EQc5/590/ul/8kfpB/wAN7fsnf9FW/wDKFf8A/wAYo/4b2/ZO/wCirf8AlCv/AP4xX5v0Uf8AEL8g/wCflT74/wDyIf8AEQc5/wCfdP7pf/JH6Qf8N7fsnf8ARVv/AChX/wD8Yo/4b2/ZO/6Kt/5Qr/8A+MV+b9FH/EL8g/5+VPvj/wDIh/xEHOf+fdP7pf8AyR+kH/De37J3/RVv/KFf/wDxij/hvb9k7/oq3/lCv/8A4xX5v0Uf8QvyD/n5U++P/wAiH/EQc5/590/ul/8AJH6Qf8N7fsnf9FW/8oV//wDGKP8Ahvb9k7/oq3/lCv8A/wCMV+b9FH/EL8g/5+VPvj/8iH/EQc5/590/ul/8kfpB/wAN7fsnf9FW/wDKFf8A/wAYo/4b2/ZO/wCirf8AlCv/AP4xX5v0Uf8AEL8g/wCflT74/wDyIf8AEQc5/wCfdP7pf/JH6Qf8N7fsnf8ARVv/AChX/wD8Yo/4b2/ZO/6Kt/5Qr/8A+MV+b9FH/EL8g/5+VPvj/wDIh/xEHOf+fdP7pf8AyR+kH/De37J3/RVv/KFf/wDxij/hvb9k7/oq3/lCv/8A4xX5v0Uf8QvyD/n5U++P/wAiH/EQc5/590/ul/8AJH6Qf8N7fsnf9FW/8oV//wDGKP8Ahvb9k7/oq3/lCv8A/wCMV+b9FH/EL8g/5+VPvj/8iH/EQc5/590/ul/8kfpB/wAN7fsnf9FW/wDKFf8A/wAYo/4b2/ZO/wCirf8AlCv/AP4xX5v0Uf8AEL8g/wCflT74/wDyIf8AEQc5/wCfdP7pf/JH6Qf8N7fsnf8ARVv/AChX/wD8Yo/4b2/ZO/6Kt/5Qr/8A+MV+b9FH/EL8g/5+VPvj/wDIh/xEHOf+fdP7pf8AyR+kH/De37J3/RVv/KFf/wDxij/hvb9k7/oq3/lCv/8A4xX5v0Uf8QvyD/n5U++P/wAiH/EQc5/590/ul/8AJH6Qf8N7fsnf9FW/8oV//wDGKP8Ahvb9k7/oq3/lCv8A/wCMV+b9FH/EL8g/5+VPvj/8iH/EQc5/590/ul/8kfpB/wAN7fsnf9FW/wDKFf8A/wAYo/4b2/ZO/wCirf8AlCv/AP4xX5v0Uf8AEL8g/wCflT74/wDyIf8AEQc5/wCfdP7pf/JH6Qf8N7fsnf8ARVv/AChX/wD8Yo/4b2/ZO/6Kt/5Qr/8A+MV+b9FH/EL8g/5+VPvj/wDIh/xEHOf+fdP7pf8AyR+kH/De37J3/RVv/KFf/wDxij/hvb9k7/oq3/lCv/8A4xX5v0Uf8QvyD/n5U++P/wAiH/EQc5/590/ul/8AJH6Qf8N7fsnf9FW/8oV//wDGKP8Ahvb9k7/oq3/lCv8A/wCMV+b9FH/EL8g/5+VPvj/8iH/EQc5/590/ul/8kfpB/wAN7fsnf9FW/wDKFf8A/wAYo/4b2/ZO/wCirf8AlCv/AP4xX5v0Uf8AEL8g/wCflT74/wDyIf8AEQc5/wCfdP7pf/JH6Qf8N7fsnf8ARVv/AChX/wD8Yo/4b2/ZO/6Kt/5Qr/8A+MV+b9FH/EL8g/5+VPvj/wDIh/xEHOf+fdP7pf8AyR+kH/De37J3/RVv/KFf/wDxij/hvb9k7/oq3/lCv/8A4xX5v0Uf8QvyD/n5U++P/wAiH/EQc5/590/ul/8AJH6Qf8N7fsnf9FW/8oV//wDGKP8Ahvb9k7/oq3/lCv8A/wCMV+b9FH/EL8g/5+VPvj/8iH/EQc5/590/ul/8kfpB/wAN7fsnf9FW/wDKFf8A/wAYo/4b2/ZO/wCirf8AlCv/AP4xX5v0Uf8AEL8g/wCflT74/wDyIf8AEQc5/wCfdP7pf/JH6Qf8N7fsnf8ARVv/AChX/wD8Yo/4b2/ZO/6Kt/5Qr/8A+MV+b9FH/EL8g/5+VPvj/wDIh/xEHOf+fdP7pf8AyR+kH/De37J3/RVv/KFf/wDxij/hvb9k7/oq3/lCv/8A4xX5v0Uf8QvyD/n5U++P/wAiH/EQc5/590/ul/8AJH6Qf8N7fsnf9FW/8oV//wDGKP8Ahvb9k7/oq3/lCv8A/wCMV+b9FH/EL8g/5+VPvj/8iH/EQc5/590/ul/8kfpB/wAN7fsnf9FW/wDKFf8A/wAYo/4b2/ZO/wCirf8AlCv/AP4xX5v0Uf8AEL8g/wCflT74/wDyIf8AEQc5/wCfdP7pf/JH6Qf8N7fsnf8ARVv/AChX/wD8YrkPFH/BW/8A4J7eC9dn8NeJf2gfs17bbfPg/wCEU1Z9u5Q45S1IPysDwe9fB1fIX7UX/Jddc/7df/SWKmvC7IH/AMvan3x/+RGvEDOX/wAu6f3S/wDkj9nv+HzH/BNn/o4//wAs/WP/AJDo/wCHzH/BNn/o4/8A8s/WP/kOvwioqv8AiFuQf8/av3x/+QK/1/zj/n3T+6X/AMkfu7/w+Y/4Js/9HH/+WfrH/wAh0f8AD5j/AIJs/wDRx/8A5Z+sf/IdfhFRR/xC3IP+ftX74/8AyAf6/wCcf8+6f3S/+SP3d/4fMf8ABNn/AKOP/wDLP1j/AOQ6P+HzH/BNn/o4/wD8s/WP/kOvwioo/wCIW5B/z9q/fH/5AP8AX/OP+fdP7pf/ACR+7v8Aw+Y/4Js/9HH/APln6x/8h0f8PmP+CbP/AEcf/wCWfrH/AMh1+EVFH/ELcg/5+1fvj/8AIB/r/nH/AD7p/dL/AOSP3d/4fMf8E2f+jj//ACz9Y/8AkOj/AIfMf8E2f+jj/wDyz9Y/+Q6/CKij/iFuQf8AP2r98f8A5AP9f84/590/ul/8kfu7/wAPmP8Agmz/ANHH/wDln6x/8h0f8PmP+CbP/Rx//ln6x/8AIdfhFRR/xC3IP+ftX74//IB/r/nH/Pun90v/AJI/pU+DPxm+Gv7Qfw2034vfCHxJ/a/h3V/O/s7Ufsc1v5vlTPBJ+7nRJFxJG6/MoztyMggnqK+YP+CM/wDyjZ+G/wD3GP8A08X1fT9fiea4Wngc0r4am24wnKKvvZNpX8z9Ty/ETxeApV57zjFu212kwooorgOwKKKKACiiigAooooAKKKKACiiigAooooAKKKKACiiigAooooAKKKKACiiigArj/2hf+SA+Of+xP1P/wBJZK7CuP8A2hf+SA+Of+xP1P8A9JZK7Mu/5GND/HD/ANLgcuO/3Gr/AIJf+kyPyvooor+tD+bQooooAKKKKACiiigAooooAKKKKACiiigAooooAKKKKACiiigAooooAKKKKACiiigAooooAKKKKACiiigAooooAKKKKACiiigAooooAKKKKACiiigAooooAKKKKACiiigAooooAKKKKACiiigAooooAKKKKACiiigAooooAKKKKACiiigAooooAKKKKACiiigAooooAKKKKACiiigAooooAKKKKACiiigAooooAKKKKACiiigAooooAK+Qv2ov+S665/26/wDpLFX17XyF+1F/yXXXP+3X/wBJYqqO447nAUUUVRYUUUUAFFFFABRRRQAUUUUAFFFFAH7u/wDBGf8A5Rs/Df8A7jH/AKeL6vp+vmD/AIIz/wDKNn4b/wDcY/8ATxfV9P1/KnEX/I/xf/X2f/pTP6FyX/kT4b/r3D/0lBRRRXjHphRRRQAUUUUAFFFFABRRRQAUUUUAFFFFABRRRQAUUUUAFFFFABRRRQAUUUUAFcf+0L/yQHxz/wBifqf/AKSyV2Fcf+0L/wAkB8c/9ifqf/pLJXZl3/Ixof44f+lwOXHf7jV/wS/9JkflfRRRX9aH82hRRRQAUUUUAFFFFABRRRQAUUUUAFFFFABRRRQAUUUUAFFFFABRRRQAUUUUAFFFFABRRRQAUUUUAFFFFABRRRQAUUUUAFFFFABRRRQAUUUUAFFFFABRRRQAUUUUAFFFFABRRRQAUUUUAFFFFABRRRQAUUUUAFFFFABRRRQAUUUUAFFFFABRRRQAUUUUAFFFFABRRRQAUUUUAFFFFABRRRQAUUUUAFFFFABRRRQAUUUUAFFFFABRRRQAV8hftRf8l11z/t1/9JYq+va+Qv2ov+S665/26/8ApLFVR3HHc4CiiiqLCiiigAooooAKKKKACiiigAooooA/d3/gjP8A8o2fhv8A9xj/ANPF9X0/XzB/wRn/AOUbPw3/AO4x/wCni+r6fr+VOIv+R/i/+vs//Smf0Lkv/Inw3/XuH/pKCiiivGPTCiiigAooooAKKKKACiiigAooooAKKKKACiiigAooooAKKKKACiiigAooooAK4/8AaF/5ID45/wCxP1P/ANJZK7CuP/aF/wCSA+Of+xP1P/0lkrsy7/kY0P8AHD/0uBy47/cav+CX/pMj8r6KKK/rQ/m0KKKKACiiigAooooAKKKKACiiigAooooAKKKKACiiigAooooAKKKKACiiigAooooAKKKKACiiigAooooAKKKKACiiigAooooAKKKKACiiigAooooAKKKKACiiigAooooAKKKKACiiigAooooAKKKKACiiigAooooAKKKKACiiigAooooAKKKKACiiigAooooAKKKKACiiigAooooAKKKKACiiigAooooAKKKKACiiigAooooAKKKKACvkL9qL/kuuuf8Abr/6SxV9e18hftRf8l11z/t1/wDSWKqjuOO5wFFFFUWFFFFABRRRQAUUUUAFFFFABRRRQB+7v/BGf/lGz8N/+4x/6eL6vp+vmD/gjP8A8o2fhv8A9xj/ANPF9X0/X8qcRf8AI/xf/X2f/pTP6FyX/kT4b/r3D/0lBRRRXjHphRRRQAUUUUAFFFFABRRRQAUUUUAFFFFABRRRQAUUUUAFFFFABRRRQAUUUUAFcf8AtC/8kB8c/wDYn6n/AOksldhXH/tC/wDJAfHP/Yn6n/6SyV2Zd/yMaH+OH/pcDlx3+41f8Ev/AEmR+V9FFFf1ofzaFFFFABRRRQAUUUUAFFFFABRRRQAUUUUAFFFFABRRRQAUUUUAFFFFABRRRQAUUUUAFFFFABRRRQAUUUUAFFFFABRRRQAUUUUAFFFFABRRRQAUUUUAFFFFABRRRQAUUUUAFFFFABRRRQAUUUUAFFFFABRRRQAUUUUAFFFFABRRRQAUUUUAFFFFABRRRQAUUUUAFFFFABRRRQAUUUUAFFFFABRRRQAUUUUAFFFFABRRRQAUUUUAFFFFABXyF+1F/wAl11z/ALdf/SWKvr2vkL9qL/kuuuf9uv8A6SxVUdxx3OAoooqiwooooAKKKKACiiigAooooAKKKKAP3d/4Iz/8o2fhv/3GP/TxfV9P18wf8EZ/+UbPw3/7jH/p4vq+n6/lTiL/AJH+L/6+z/8ASmf0Lkv/ACJ8N/17h/6Sgooorxj0wooooAKKKKACiiigAooooAKKKKACiiigAooooAKKKKACiiigAooooAKKKKACuP8A2hf+SA+Of+xP1P8A9JZK7CuP/aF/5ID45/7E/U//AElkrsy7/kY0P8cP/S4HLjv9xq/4Jf8ApMj8r6KKK/rQ/m0KKKKACiiigAooooAKKKKACiiigAooooAKKKKACiiigAooooAKKKKACiiigAooooAKKKKACiiigAooooAKKKKACiiigAooooAKKKKACiiigAooooAKKKKACiiigAooooAKKKKACiiigAooooAKKKKACiiigAooooAKKKKACiiigAooooAKKKKACiiigAooooAKKKKACiiigAooooAKKKKACiiigAooooAKKKKACiiigAooooAKKKKACvkL9qL/AJLrrn/br/6SxV9e18hftRf8l11z/t1/9JYqqO447nAUUUVRYUUUUAFFFFABRRRQAUUUUAFFFFAH7u/8EZ/+UbPw3/7jH/p4vq+n6+YP+CM//KNn4b/9xj/08X1fT9fypxF/yP8AF/8AX2f/AKUz+hcl/wCRPhv+vcP/AElBRRRXjHphRRRQAUUUUAFFFFABRRRQAUUUUAFFFFABRRRQAUUUUAFFFFABRRRQAUUUUAFcf+0L/wAkB8c/9ifqf/pLJXYVx/7Qv/JAfHP/AGJ+p/8ApLJXZl3/ACMaH+OH/pcDlx3+41f8Ev8A0mR+V9FFFf1ofzaFFFFABRRRQAUUUUAFFFFABRRRQAUUUUAFFFFABRRRQAUUUUAFFFFABRRRQAUUUUAFFFFABRRRQAUUUUAFFFFABRRRQAUUUUAFFFFABRRRQAUUUUAFFFFABRRRQAUUUUAFFFFABRRRQAUUUUAFFFFABRRRQAUUUUAFFFFABRRRQAUUUUAFFFFABRRRQAUUUUAFFFFABRRRQAUUUUAFFFFABRRRQAUUUUAFFFFABRRRQAUUUUAFFFFABXyF+1F/yXXXP+3X/wBJYq+va+Qv2ov+S665/wBuv/pLFVR3HHc4CiiiqLCiiigAooooAKKKKACiiigAooooA/d3/gjP/wAo2fhv/wBxj/08X1fT9fMH/BGf/lGz8N/+4x/6eL6vp+v5U4i/5H+L/wCvs/8A0pn9C5L/AMifDf8AXuH/AKSgooorxj0wooooAKKKKACiiigAooooAKKKKACiiigAooooAKKKKACiiigAooooAKKKKACuP/aF/wCSA+Of+xP1P/0lkrsK4/8AaF/5ID45/wCxP1P/ANJZK7Mu/wCRjQ/xw/8AS4HLjv8Acav+CX/pMj8r6KKK/rQ/m0KKKKACiiigAooooAKKKKACiiigAooooAKKKKACiiigAooooAKKKKACiiigAooooAKKKKACiiigAooooAKKKKACiiigAooooAKKKKACiiigAooooAKKKKACiiigAooooAKKKKACiiigAooooAKKKKACiiigAooooAKKKKACiiigAooooAKKKKACiiigAooooAKKKKACiiigAooooAKKKKACiiigAooooAKKKKACiiigAooooAKKKKACvkL9qL/kuuuf9uv/AKSxV9e18hftRf8AJddc/wC3X/0liqo7jjucBRRRVFhRRRQAUUUUAFFFFABRRRQAUUUUAfu7/wAEZ/8AlGz8N/8AuMf+ni+r6fr5g/4Iz/8AKNn4b/8AcY/9PF9X0/X8qcRf8j/F/wDX2f8A6Uz+hcl/5E+G/wCvcP8A0lBRRRXjHphRRRQAUUUUAFFFFABRRRQAUUUUAFFFFABRRRQAUUUUAFFFFABRRRQAUUUUAFcf+0L/AMkB8c/9ifqf/pLJXYVx/wC0L/yQHxz/ANifqf8A6SyV2Zd/yMaH+OH/AKXA5cd/uNX/AAS/9JkflfRRRX9aH82hRRRQAUUUUAFFFFABRRRQAUUUUAFFFFABRRRQAUUUUAFFFFABRRRQAUUUUAFFFFABRRRQAUUUUAFFFFABRRRQAUUUUAFFFFABRRRQAUUUUAFFFFABRRRQAUUUUAFFFFABRRRQAUUUUAFFFFABRRRQAUUUUAFFFFABRRRQAUUUUAFFFFABRRRQAUUUUAFFFFABRRRQAUUUUAFFFFABRRRQAUUUUAFFFFABRRRQAUUUUAFFFFABRRRQAV8hftRf8l11z/t1/wDSWKvr2vkL9qL/AJLrrn/br/6SxVUdxx3OAoooqiwooooAKKKKACiiigAooooAKKKKAP3d/wCCM/8AyjZ+G/8A3GP/AE8X1fT9fMH/AARn/wCUbPw3/wC4x/6eL6vp+v5U4i/5H+L/AOvs/wD0pn9C5L/yJ8N/17h/6Sgooorxj0wooooAKKKKACiiigAooooAKKKKACiiigAooooAKKKKACiiigAooooAKKKKACuP/aF/5ID45/7E/U//AElkrsK4/wDaF/5ID45/7E/U/wD0lkrsy7/kY0P8cP8A0uBy47/cav8Agl/6TI/K+iiiv60P5tCiiigAooooAKKKKACiiigAooooAKKKKACiiigAooooAKKKKACiiigAooooAKKKKACiiigAooooAKKKKACiiigAooooAKKKKACiiigAooooAKKKKACiiigAooooAKKKKACiiigAooooAKKKKACiiigAooooAKKKKACiiigAooooAKKKKACiiigAooooAKKKKACiiigAooooAKKKKACiiigAooooAKKKKACiiigAooooAKKKKACiiigAr5C/ai/5Lrrn/br/AOksVfXtfIX7UX/Jddc/7df/AEliqo7jjucBRRRVFhRRRQAUUUUAFFFFABRRRQAUUUUAfu7/AMEZ/wDlGz8N/wDuMf8Ap4vq+n6+YP8AgjP/AMo2fhv/ANxj/wBPF9X0/X8qcRf8j/F/9fZ/+lM/oXJf+RPhv+vcP/SUFFFFeMemFFFFABRRRQAUUUUAFFFFABRRRQAUUUUAFFFFABRRRQAUUUUAFFFFABRRRQAVx/7Qv/JAfHP/AGJ+p/8ApLJXYVx/7Qv/ACQHxz/2J+p/+ksldmXf8jGh/jh/6XA5cd/uNX/BL/0mR+V9FFFf1ofzaFFFFABRRRQAUUUUAFFFFABRRRQAUUUUAFFFFABRRRQAUUUUAFFFFABRRRQAUUUUAFFFFABRRRQAUUUUAFFFFABRRRQAUUUUAFFFFABRRRQAUUUUAFFFFABRRRQAUUUUAFFFFABRRRQAUUUUAFFFFABRRRQAUUUUAFFFFABRRRQAUUUUAFFFFABRRRQAUUUUAFFFFABRRRQAUUUUAFFFFABRRRQAUUUUAFFFFABRRRQAUUUUAFFFFABXyF+1F/yXXXP+3X/0lir69r5C/ai/5Lrrn/br/wCksVVHccdzgKKKKosKKKKACiiigAooooAKKKKACiiigD93f+CM/wDyjZ+G/wD3GP8A08X1fT9fMH/BGf8A5Rs/Df8A7jH/AKeL6vp+v5U4i/5H+L/6+z/9KZ/QuS/8ifDf9e4f+koKKKK8Y9MKKKKACiiigAooooAKKKKACiiigAooooAKKKKACiiigAooooAKKKKACiiigArj/wBoX/kgPjn/ALE/U/8A0lkrsK4/9oX/AJID45/7E/U//SWSuzLv+RjQ/wAcP/S4HLjv9xq/4Jf+kyPyvooor+tD+bQooooAKKKKACiiigAooooAKKKKACiiigAooooAKKKKACiiigAooooAKKKKACiiigAooooAKKKKACiiigAooooAKKKKACiiigAooooAKKKKACiiigAooooAKKKKACiiigAooooAKKKKACiiigAooooAKKKKACiiigAooooAKKKKACiiigAooooAKKKKACiiigAooooAKKKKACiiigAooooAKKKKACiiigAooooAKKKKACiiigAooooAK+Qv2ov+S665/wBuv/pLFX17XyF+1F/yXXXP+3X/ANJYqqO447nAUUUVRYUUUUAFFFFABRRRQAUUUUAFFFFAH7u/8EZ/+UbPw3/7jH/p4vq+n6+YP+CM/wDyjZ+G/wD3GP8A08X1fT9fypxF/wAj/F/9fZ/+lM/oXJf+RPhv+vcP/SUFFFFeMemFFFFABRRRQAUUUUAFFFFABRRRQAUUUUAFFFFABRRRQAUUUUAFFFFABRRRQAVx/wC0L/yQHxz/ANifqf8A6SyV2Fcf+0L/AMkB8c/9ifqf/pLJXZl3/Ixof44f+lwOXHf7jV/wS/8ASZH5X0UUV/Wh/NoUUUUAFFFFABRRRQAUUUUAFFFFABRRRQAUUUUAFFFFABRRRQAUUUUAFFFFABRRRQAUUUUAFFFFABRRRQAUUUUAFFFFABRRRQAUUUUAFFFFABRRRQAUUUUAFFFFABRRRQAUUUUAFFFFABRRRQAUUUUAFFFFABRRRQAUUUUAFFFFABRRRQAUUUUAFFFFABRRRQAUUUUAFFFFABRRRQAUUUUAFFFFABRRRQAUUUUAFFFFABRRRQAUUUUAFfIX7UX/ACXXXP8At1/9JYq+va+Qv2ov+S665/26/wDpLFVR3HHc4CiiiqLCiiigAooooAKKKKACiiigAooooA/d3/gjP/yjZ+G//cY/9PF9X0/XzB/wRn/5Rs/Df/uMf+ni+r6fr+VOIv8Akf4v/r7P/wBKZ/QuS/8AInw3/XuH/pKCiiivGPTCiiigAooooAKKKKACiiigAooooAKKKKACiiigAooooAKKKKACiiigAooooAK4/wDaF/5ID45/7E/U/wD0lkrsK4/9oX/kgPjn/sT9T/8ASWSuzLv+RjQ/xw/9LgcuO/3Gr/gl/wCkyPyvooor+tD+bQooooAKKKKACiiigAooooAKKKKACiiigAooooAKKKKACiiigAooooAKKKKACiiigAooooAKKKKACiiigAooooAKKKKACiiigAooooAKKKKACiiigAooooAKKKKACiiigAooooAKKKKACiiigAooooAKKKKACiiigAooooAKKKKACiiigAooooAKKKKACiiigAooooAKKKKACiiigAooooAKKKKACiiigAooooAKKKKACiiigAooooAK+Qv2ov8Akuuuf9uv/pLFX17XyF+1F/yXXXP+3X/0liqo7jjucBRRRVFhRRRQAUUUUAFFFFABRRRQAUUUUAfu7/wRn/5Rs/Df/uMf+ni+r6fr5g/4Iz/8o2fhv/3GP/TxfV9P1/KnEX/I/wAX/wBfZ/8ApTP6FyX/AJE+G/69w/8ASUFFFFeMemFFFFABRRRQAUUUUAFFFFABRRRQAUUUUAFFFFABRRRQAUUUUAFFFFABRRRQAVx/7Qv/ACQHxz/2J+p/+ksldhXH/tC/8kB8c/8AYn6n/wCksldmXf8AIxof44f+lwOXHf7jV/wS/wDSZH5X0UUV/Wh/NoUUUUAFFFFABRRRQAUUUUAFFFFABRRRQAUUUUAFFFFABRRRQAUUUUAFFFFABRRRQAUUUUAFFFFABRRRQAUUUUAFFFFABRRRQAUUUUAFFFFABRRRQAUUUUAFFFFABRRRQAUUUUAFFFFABRRRQAUUUUAFFFFABRRRQAUUUUAFFFFABRRRQAUUUUAFFFFABRRRQAUUUUAFFFFABRRRQAUUUUAFFFFABRRRQAUUUUAFFFFABRRRQAUUUUAFfIX7UX/Jddc/7df/AElir69r5C/ai/5Lrrn/AG6/+ksVVHccdzgKKKKosKKKKACiiigAooooAKKKKACiiigD93f+CM//ACjZ+G//AHGP/TxfV9P18wf8EZ/+UbPw3/7jH/p4vq+n6/lTiL/kf4v/AK+z/wDSmf0Lkv8AyJ8N/wBe4f8ApKCiiivGPTCiiigAooooAKKKKACiiigAooooAKKKKACiiigAooooAKKKKACiiigAooooAK4/9oX/AJID45/7E/U//SWSuwrj/wBoX/kgPjn/ALE/U/8A0lkrsy7/AJGND/HD/wBLgcuO/wBxq/4Jf+kyPyvooor+tD+bQooooAKKKKACiiigAooooAKKKKACiiigAooooAKKKKACiiigAooooAKKKKACiiigAooooAKKKKACiiigAooooAKKKKACiiigAooooAKKKKACiiigAooooAKKKKACiiigAooooAKKKKACiiigAooooAKKKKACiiigAooooAKKKKACiiigAooooAKKKKACiiigAooooAKKKKACiiigAooooAKKKKACiiigAooooAKKKKACiiigAooooAK+Qv2ov+S665/26/8ApLFX17XyF+1F/wAl11z/ALdf/SWKqjuOO5wFFFFUWFFFFABRRRQAUUUUAFFFFABRRRQB+7v/AARn/wCUbPw3/wC4x/6eL6vp+vmD/gjP/wAo2fhv/wBxj/08X1fT9fypxF/yP8X/ANfZ/wDpTP6FyX/kT4b/AK9w/wDSUFFFFeMemFFFFABRRRQAUUUUAFFFFABRRRQAUUUUAFFFFABRRRQAUUUUAFFFFABRRRQAVx/7Qv8AyQHxz/2J+p/+ksldhXH/ALQv/JAfHP8A2J+p/wDpLJXZl3/Ixof44f8ApcDlx3+41f8ABL/0mR+V9FFFf1ofzaFFFFABRRRQAUUUUAFFFFABRRRQAUUUUAFFFFABRRRQAUUUUAFFFFABRRRQAUUUUAFFFFABRRRQAUUUUAFFFFABRRRQAUUUUAFFFFABRRRQAUUUUAFFFFABRRRQAUUUUAFFFFABRRRQAUUUUAFFFFABRRRQAUUUUAFFFFABRRRQAUUUUAFFFFABRRRQAUUUUAFFFFABRRRQAUUUUAFFFFABRRRQAUUUUAFFFFABRRRQAUUUUAFFFFABXyF+1F/yXXXP+3X/ANJYq+va+Qv2ov8Akuuuf9uv/pLFVR3HHc4CiiiqLCiiigAooooAKKKKACiiigAooooA/d3/AIIz/wDKNn4b/wDcY/8ATxfV9P18wf8ABGf/AJRs/Df/ALjH/p4vq+n6/lTiL/kf4v8A6+z/APSmf0Lkv/Inw3/XuH/pKCiiivGPTCiiigAooooAKKKKACiiigAooooAKKKKACiiigAooooAKKKKACiiigAooooAK4/9oX/kgPjn/sT9T/8ASWSuwrj/ANoX/kgPjn/sT9T/APSWSuzLv+RjQ/xw/wDS4HLjv9xq/wCCX/pMj8r6KKK/rQ/m0KKKKACiiigAooooAKKKKACiiigAooooAKKKKACiiigAooooAKKKKACiiigAooooAKKKKACiiigAooooAKKKKACiiigAooooAKKKKACiiigAooooAKKKKACiiigAooooAKKKKACiiigAooooAKKKKACiiigAooooAKKKKACiiigAooooAKKKKACiiigAooooAKKKKACiiigAooooAKKKKACiiigAooooAKKKKACiiigAooooAKKKKACvkL9qL/kuuuf9uv8A6SxV9e18hftRf8l11z/t1/8ASWKqjuOO5wFFFFUWFFFFABRRRQAUUUUAFFFFABRRRQB+7v8AwRn/AOUbPw3/AO4x/wCni+r6fr5g/wCCM/8AyjZ+G/8A3GP/AE8X1fT9fypxF/yP8X/19n/6Uz+hcl/5E+G/69w/9JQUUUV4x6YUUUUAFFFFABRRXyl+2h4l8efEb9tv4IfsUw/FLxF4K8GeNfDnirxH4n1DwnrEumalr0ulf2ckGkwX0JWe1Ui+luZTA6TMlsqq6rvyAfVtFfL3xn1Hxf8AsN6D4H+En7OfizWtd1z4w/FK28L+Grr4veLNT8R2Xhpv7Mvr+4uWlubg310n2fTZtls12C80iBXjUtXHp/wUG/aG+HWqap4f+M/h/wAGXa/DD4/aL4D+LniLw/p13b2c+k63plpNpur2cctzK1i8d3qmmx3MEz3CpGJ3EgBVgAfaNFfCfxD/AOCpvxf03wja+KvBngrTm0/4i/HvV/A3wl1iz8B634iMWj6RY3LX2sXOn6SXu9SaS70zURBDbLApgaCR5AiSS1BN/wAFFf22NR+H3g3Q9A+EOj6f4u8RftHW3w5h8SeO/hl4j8N6XrWjz6HdakNbtNL1J4b6AxvF5LQSSSK0lpOiy7ZEmQA+86K/Pr4zf8FMP2wvh78TfiT8I/Avgu08V678GLbT7XWrHw/+zr411aPx7q0+l2+qPbWV1pb3Vt4eRobu3hjN3Jev5hZ3VYgrvV/4KA/tT/tO/HT9nD9rbwt8H9F8HeHvBnwt+DNzbeLNK8caPenXNXm1HwsdUnWGWO5ii037Pa3kKr5sFz5s6SxnyQu+gD9D6K+bv2gfiJrXwm/4JO+IviL4Y+KUfgjVtK+BzS6N4tk057saVenSwtvOIY0dpWWYx4VUck4wrfdPyz4G+N3xa+A918ZrHxR4x+LXwOs7L9la98U6Xp3x78aS+NL6LV7YyJP4jtJEu9QVLa2aa1SWzEsTyPNFiyhGN4B+m9FfAH/BO3xd8Z/DP7X+h/DP4l6T8ZfAtl4i+BUmq3HhD43/ABBk8SXPifW7e+sUudV02X7ZeLYxW6XPlzWrPaOxv7dhZRCJjXpnx40TxH+0p/wUWj/ZV8TfF/x14V8HeH/ggviq1tvAHjO90C51LVrvVprPz5bmykjllS0jtlKwMxhZrzMscmEAAPrOivyh+Lf/AAVG1bxf/wAE2vh/8JPHf7YOifDz4k+MPgrqXijxT8QbrxVbaFqF1YWH2m2tW0wtJGTfard2yhTbjMUP2uRDG4t93onxP8QftG/HL9kH4QftNfAf496vqnhix+Bq3E3jrw18WI7HTtD8TwfYmm1rXX+0oNWsoEt76Oe3b7SRIkytbl38yIA/Rqivj39l39tceLfj3reo/F3RvHmn3PjfxXY+HPD+n3kSpovhMnSW1fTdJuIGnEserXWnzC/uJfs5RGvLezeYtbxqez/bR/5O0/ZC/wCy4a3/AOoB4roA+j6K+Wf+Cwn7Usf7Mn7HVxpmj/F7TvAfib4n+ItP8B+E/F+qaxHYRaFc6lJ5c+pm4kdVh+x2a3d2HJGGt0HUivC/2IP+CkXiDRPgv4P8Dy/GnQPinofw5+Pknwl+JnxGbXf7Wu7/AE29Dr4Y15b6GcxyGd7jSra5kk8wtNNcHcrRMCAfo1RXwX4u/wCCqnxlPgTwv4n8H+DdOjt/i38XfEei/C7XLL4c694mFp4W0iGVTqtxpmkM93qM11NayyQpCbaMW91E7svlO0ktt/wUM/bc8VeGPhd4S8M/CPQ9C8XeNf2gNR+HtzrnxA+G/iHQ7HUtLh8O3+rx69ZaXqD299EuLeNTBK7q0lvcwrMMrcIAfd9FfBP7af8AwUx+NX7Gs+tahJ8TfA/jeT4a6fpD/Enwr4Z+Bfiud3kmjglunfWLS6ubDw+zwy+fBb3omPltFvmw4kq5+2F/wUA/bK8A+Cf2oPjP+zfpXwxg8Ofs0Wsllc6N450i/uL7xHqSaFZ6vLOs9veQJZ28UeoW6pEYpnuWilUSW4ZXUA+6qK+Cv2jP+CoP7Rfhz41fEf4Y/AD4Yy383wq0jS5LnR0+BvjHxRJ4w1O70yLU/sMGoaJE1roq+VcQRLNcC5YyO7NCqIGf6Q/ag/axu/2e/wBijWv2soPhveT31n4btL2w8K607WMq3l20MUFtdsVZrYJNPGszbSY1VztJXFAHstFfLvxn+OX7bP7MHwmsLr4meIvhZ4t8Y+O/Hvh7wl4GbQvCOpaRpmkXmpXJhllvxNqN1JdxQr+8Tymt2mZRHtjMgdfN/ix/wUI/bE+DNv4z+Cuo+Hvht4h+JnhH4r/Djw7Z65a6Xf2Gh6vp3irU4bNHe1a7nnsbmL/SVI8+4UYhlwwcxAA+6qK/NL/goJ8e/wBsHxl+yl+0V+y/448dfD+38R+Atf8ABFvqHijw/wCDdQgstd0DXruCJrX7E+qtJazB/Njlb7TMksAZQkbS7ouuv/2h9T/YD1D42fDjwP8As/fB6HVPhx8OPhha6HdeA/Ap8L2ep6n4g1zWtNhjuYkuLgw6bb3LJOkKuzRC4vG3sZcqAff9Ffmn8Tf2mP2gP2Lf21fjr8dv2irPwl438ReDf2VvC8+jr4C0a+0221Q3HiTV4beOW0kmvri3K3MhV2jectEokRNxMS9D4z/4Kiftf/C74FfG/wAc618Lk1658AfBe+8a+FvGOpfADxj4L0UalbNtfR7qDXGWS6bDxSpLb3CGRFmzHEUBYA/Quiviz4qf8FB/2jv2Otf+J+m/tUeF/BfidfC3wCvfifoEHgKwu9OaL7Jcm3n0i5kuri4Fxh5LfbfKsAKmRmtk2gV0fx8/aY/bJ/Yr/Zb134+ftC3fw88Zard3/h/SPC2gfD/wPrMCafqeqanb6cqzst3fXGpwxyXcbg29vDNKI2RIS8iKAD6wor5o/YZ/au+PXxv+I/jL4Y/GTwJqdxZaFpWnaloPxCT4J+J/A9hqZuHuI7jT/sXiANL9otzBE5kimkjkjukOI2Rlr5h/4KOfFP47T/HT9oGb4V6v8Z9bPw3+GelTeG9a+G3jaXRdD+GOrta3N3LdazZLdQnXFMT2t40cVtqbeQpi+zoSpkAP01or82P29PiV8Z9Of4m/F3xL44+OD6PZfAzT9c/Z78UfBhtWt9AfV0s7y4vLzUjYn7Kv71bSQrrBNn9mwEy3m5+nvFP7RPjG6/4JP3n7VXi/xxbfD3xJd/s/HxNfeIrjS3uIvDmoy6J9pNwbZVZpRBM27ygrFtm0Ak4oA+iaK/Mr4A6h+2LJ418Q/AzwTffF/wCFni/xn+yvq954T0f47/EN/Ecut+MIntYl1zT5zdXyafDavdRrNbsbZz9ut2+wIIWrR0L4wfHj4VeI7z9mnxFD8WLHRbr4m6PqKaDefEJNe8XWVjPaWaWfhsau9+6LPqOpWupXjF70i20yKUNJB9qtkjAP0korlPgf8ZPB/wC0B8LdK+LfgRbxNO1VZVFtqNv5VxazwzPBPbzICQssU0UkTgFl3RnDMME9XQAUUUUAFFFFABRRRQAUUUUAFFFFABRRRQAUUUUAFFFFABRRRQAUUUUAFFFFABRRRQAUUUUAFFFFABRRRQAUUUUAFFFFABRRRQAUUUUAFFFFABRRRQAUUUUAFFFFABRRRQAUUUUAFFFFABRRRQAUUUUAFFFFABRRRQAUUUUAFFFFABRRRQAUV5X+3T4h1/wj+xJ8Y/FnhPXLzS9V0v4V+IbvTdS065eC4tLiPTbh45opEIaN1ZQyspBBAIIIr4L+C37Tn7Q3gSD9m39jb4y/GrxPfeMtO+MXhq+g8T3mtTC68d+CdU8O63c2sl5JuBvHguoWs7kPuDS2ME7jM6GgD9SKK+JfAP8AwUH/AGm9e0r4fftN+IPD3gP/AIVP8TPjI/gTSfCdnp14viPS4pNTutMs9RmvWuWt7h2uLdXms1tYzDHK37+QxENv/wDBIHW/2tvF3wY8U+J/2jfj5oPjOyj+K/jvTNNjt/Cl/bX9tLaeLNUtjuu7rVbsNaBYtlvarEhtoRFF5svl7mAPruivjPwL4e1/9t39tv4/+EvjL8ZviBonh74P+I9G8O+D/AvgXx/qfhoCO40W01GTV7uXS57e4u2nlu3ijWSQwoloQIyxdj0fiz4pftU6P8f5P2HP2VvF/hd73wF8JtP8V634x+Mdneavcaz9tvr+0srJfsdxaFGzptwZr1jNtDxfuZWLmgD6por4b8Nf8Fgv7P8Ah3o37Q3xc8A2ej+BvHH7Mg+Jvgazt/Ma+l1Wyx/auiNKWKXLsLzTDamOONpA852uANub8SP+Ci37YvhLx5Yfs6z+E9G0r4g+GvhFoHif4h3el/Ajxl4x0671rUvtajS7WLQTK+mwI9jMPtd1LKzbwI4JfKl2gH3tRXxv8OP2zf20P2hf2lPCXwl8E/D7wx8M9Kvv2f8Aw38RvGGn/EPwnqN5rukX19qF7b3OjfZ0u7QK4W1KiV1zE8bFophIETiv2P8A/gqp+0Z+0z4t+F3jqD4K6re+BfitfsraNpvwH8Y2U/g/T5raeez1G58RXcX9k6lGTHBFKIVhVWug0Us6xksAfftFfmf4l/aL/ad/apk/Y0/ab8fReArP4ffEb9oi01Lwn4a0jT7yLWtEhOh681ot3dS3Lw3zyQB2lWOC28iQBB5wyy/YP/BRnwJceNv2NvH19YfEnxn4WvPDfhXVNc0/UvA3iy70W7a4ttPuWiR7i0dJTFvKuUDAM0aZ4GCAe30V87ab4O1L49/8E2PBreLPil4303ULj4W6Tq17r/hjxfeaZql1crpaSsXvbd1n+dzuchwzHqetbf8AwTN8WeKfHv8AwTf/AGffHPjnxLqGta3rXwR8KX+saxq149zdX91No9rJLPNLIS8sruzOzsSzMxJJJoA9uor8sv8AgoH8c/2mv2bT8ZPjzrcnx3T4j+FvijpFz8HofD7asPAt34UabTIvs1wsR/siRpvMvYpVvM35nkUW+B5OND41/tP/ABv1P9pD9pb46/FPwR45v/hX+zV4o0+ymtvCfxx1Hwq+m6XFpFjqV1fQ6bYIqa7cn7TNM8d/NHD5CwRwiRzICAfp7RXwf+0Jq37YXwA/a9n+P8UPi/XNF1Dx2tr4S0uD4gqmh+INKuvDf2Ox8NxaOZj5WonX8Xsl+bbEVnFPK915aNbL61/wT0/aT0H4h+FbX4Ya34k8Xa14pvNGm8VN4r8SxKtn4pt7i+mjnvdKQXEr22npcDyoLWZYZIoGt/3ZDb2APpaiiigAooooAKKKKACiiigAooooAKKKKACuE+Pf7NHwS/ab8P2Hhz41eCRqiaRqK6hod/aajc2F/pN4qsgubO9tJIrm0l2O6+ZDIjFWZScEiu7ooA8Zk/YA/ZWu/hre/CvWvBGs6tYahrNtq8+qa7461m/1ldQtsfZ7uPVrm7e/hmiAxHJHOrRgsFIDHN/TP2IP2XtK/Z/8UfswRfDI3Hg3xuLw+MLTUNbvrq91qW6QJPc3OoTTteTXLKqAXLTGZfLj2uuxMer0UAeW3v7Fv7M198APDP7MJ+GSQeDfBcFnH4RsrHVry2u9Ge0jMdvPbX0Uy3cNwqFh9oSUTN5j7nO9ss0H9iz9nrQNJ8OaQ2g+INVHhPxsvi7Qr3xP481nV7yHWVs5bJbl7q+u5Z58W80kYjld4wGzsyAR6rRQB5N8V/2Iv2dPjL48uPid4s8P+IbDXb60htdX1Hwf4/1rw+2rQRbhFHfLpd5brfKgZlUXAkCqxUYBxWR8d/8AgnD+xx+0rrOq658YvhTd38viDw/HoniWDTvFuq6bba5YRq6wxX9vZXUUV8YhI/lPOsjxEgxspAI9wooA5rxH8Hfhj4w+El18B/Fvguy1TwffaCdFvdA1FDPBcWBi8kwOHJLqY/lyST3znmvPfAX/AAT6/ZM+Ho8Qm0+HF/r0nirwu/hrXLjx54v1XxLNPor536YsmrXVy8Nm24lreMrGxwSpwMez0UAePfCL9gz9mT4H+ILzxd4A8MeIf7ZuvDj6BFrWu/ELW9XvdP0t2V2srG4v7yaTT4CyRt5ds0S7oo2xlFIl+Lv7DX7Nnx10zw5YfE3wxr15ceFNHk0nR9csvHus2OrfYJUiSe1uNRtbuO7vIphDEZkuJZFmZA0gdua9cooA5G9+AvwbvvhEfgM3w50uHwgPDR8PRaDZ2/2eGDTPINuLWLytrQoIjsXYVKjoQQDVbU/2cvgxrHwg0f4Baj4LWTwfoS6amnaF9uuBD5dhJFJbRykSBriNWhjLRyl1lCkSBwzA9vRQB5lffsdfs6al+0FD+1De+AJH8ZwXCXS3o1y9Fo12lo9kl69gJvskl4to7W63TQmdYT5YkC4Wo/jt8AtY+Lfxl+CnxO07xBbWcHws8f3/AIg1C1niZnvorjw3rGkCKMjhWEmpxyEnjbEw6kV6jRQByHjX4C/CX4i/E/wl8Y/G/g+PUvEPgVNQXwpeXF1N5enm9iSG5cQBxE8jRIIxI6M6K0ioVEjhuV+Jf7DH7KvxeufHV34++E0N0/xL8MWPh/xwLXVby0XVLKylnltNy28yCOeF7iUpcxhZ1yoEmEQL6zRQB5h4g/Yz/Zs8SfBTwp+z1d/Df7L4W8BwWcXgi30fV7ywu9A+yW5trd7K+tpo7q2lSBmi82OVZCjurMQ7Zb4c/Y2/Z/8ADSeEDF4f1zUrjwL4rn8SeGNR8R+N9X1a8t9UmsLjT5LiS5vbqWa5JtbqeIJM8iKHyFDKrD1GigDwX44f8Eyv2K/2jfEXinxL8X/hVqOov44jgXxlp1p441mx07W5IIY4ILi6sbW8jtZ7mKKKJI7l4jMghj2uNi48X/4KNf8ABMfxh+2l4l8X+GvB/wAM/AukaV8R9AtNI8XeP5/iVr9pfCFAYmlm8PWsH9m6xcwwn/Rbi7nDQOIyBiJQfuKigDyT4ofsO/s4fFzxj/wsHxL4d8Q6brUmmwaffal4O8f614el1K0h3eTBeHS7y3+2xpvcKtx5gUOwGASD3/i/4a+AfiB8O9Q+EnjrwlY6z4Z1bSZNM1TRNUgE9vd2bxmN4ZFfO9WQkEHOa3KKAPGNN/4J/wD7Ldj8MNc+DepeFPEWueHPELWTXtj4t+Imua09u1nJ5tobSa/vZpbAwS4kiNs8RjdVdcMqkSeH/wBgX9lLw34QPgu0+G93d28njnSvGN5qGs+KtT1DUr/XNNuLe4sby6v7q5ku7toZLW32rNK6bIljKlMqfY6KAPMPHv7Gn7NvxPvPGmoeOfhx9um+IZ0Q+MH/ALYvIv7Q/sibztP4jmUReVJ837vZv6PvHFWfGn7JH7OnxG1fx5rfjz4XWerz/E3wzp3h/wAcrf3E0kWqadYtdvaQmIvsiMbX10wkjVH3SAliUQr6NRQB4h4C/wCCcn7HHw8v/FWrad8J7nV7vxz4VTw14xvPGfivVPEE2taUjSlLW5fU7m4aZF86RRuJIQqgOxVUCf8ABO39leX4ceLfhHrugeL9d8OeOPDsug+IdL8U/FXxFqyPpsgw9tbm9v5WskI4/wBGMRGBgjAr2+igDifFf7OfwT8d/EO7+KXjT4fWmq6zf+CrrwjfyahJJLBdaJczLNPZSWzMYJEd0UsWQsRlc7SQeQ8IfsA/sseDPh9r3wntfBWtar4Y8R6dDp9/4f8AFnjvWdbs4LWFi0MNpDqF3MtgkbYZFthEEZEK4KKR7LRQBwHwR/Zo+F37PkmpT/D268XXM2rLCt5ceLviJrXiGUJFv8uON9Vu7loUHmP8kZVeenAxy/xr/wCCff7KH7QnjHVPHfxQ+H+qTX+v6dDp/iiPRvGmr6Ta+IbSIMscGp2thdQwanGquyBLpJRsYpjbxXs9FAHkvxk/Ye/Zr+P2qWV78V/COsajYWOmwaf/AMItB411e00C7tYXZ4obvSLe6jsL1FLkbbiCQFcKcqoA7Hxd8Fvhx4+bWIPG+iXGraf4g8Lv4d1nw/qGq3Muk3enOZN8Tae0htd7iV0aURCV0wjOUVVHU0UAeS/A39h79m39nbxo/wARvhp4T1p9e/sT+xrXV/FHjfV9euLDTfMSQ2No+p3VwbO2LxxsYYPLjJiQlTsXFzxX+xz+zt418Fa74C1/wNcm08R+Lv8AhKdVvbPxDf2uonWQ8bpfRX8M6XVvNGIoo4mhlTyYoo4Y9kaKg9OooA5/4WfC3wD8E/h5pPwq+F3hyLSdA0S1FvpthFI8nlpkklnkZnkdmLM0jszuzMzMWJJ6CiigAooooAKKKKACiiigAooooAKKKKACiiigAooooAKKKKACiiigAooooAKKKKACiiigAooooAKKKKACiiigAooooAKKKKACiiigAooooAKKKKACiiigAooooAKKKKACiiigAooooAKKKKACiiigAooooAKKKKACiiigAooooAKKKKACiiigDH+IfgHwn8VfAGufC/x9pP2/QvEmj3Ola1Y+fJF9otLiJoZo98bK6bkdhuVgwzkEHBrgPF37D/7LPjvxt8LfiR4r+E1vda78Fg4+Geqf2ldJLoyvAkDJlJR9oQxxoCs/mLlQ2Nw3V6vRQB454e/YC/ZL8K/F+P446F8LZYtbt9futdsrV/EeoyaTZatciQXGo2+lPcGwtryXzpi9zFAsrGWQlyXYnovhL+y78GfgZ418S+O/hZpGsaXc+LtTudR1vTf+Eu1OfS2vLmdri5uYdOmuHs7WaWZ3kkkghjaRnYsSWOfQaKAPJvjD+xB+zf8AHH4hR/Fzxj4V1vT/ABWunJp83ibwV441jw3qF3ZozMltc3Gk3dtJdQqzuVimZ0Uu2ANxzm+P/wDgnd+yH8SdK0PSPEPwyvrVPDugS6Fp9z4e8X6rpFzJpcrB5bC5uLG6hlvbZ3G94bhpI3YszKSzE+10UAeU/Fv9h/8AZS+OXhv4f+DfiZ8FtMvdJ+FmvWGseANMtZZrODSLmyQJbKiWzxq8CKFH2aQNAwRN0bbFxZ+NH7H/AMBvj34stPH/AI70TXbPxDZacdPj8Q+D/G+r+HdQksvMMn2SW50m6tpZ7cOWcQyM0YZ2IUFiT6bRQBxPgz9nT4O/D/4gRfFPwp4Ukg8QQ+CNP8IpqU2q3U7nR7KWaa2tmEsrKxSS4mYykGV9/wAzsAMcz4C/YZ/Zu+F3xCi+JHw88OeItIntr+4vbTQrL4ga2mg21xPvMssWjfbP7OiZjJIxKW4+Zy3U5r1yigDwbRP+CZf7FHhz4laL8WNG+EN3DqvhrxTP4j8MW/8AwmGrNp2ianOJhPPZae10bSz837RKZI4YkSRmDOrMqkehftB/s8/DP9qD4bXPwk+Ly+IZNBvXJvrbw5401XQpblDG8bQyz6Zc280kLJIwaFnMb5G5TgY7eigDx3Rv2E/2ffD37O7fsr6LcfEK38GGVGjtk+Mvif7fCiIiLbxakdR+3Q2wSNVFsk6w7cjZhmBtfBT9ir4Dfs8fCDT/AID/AAiHjbTPC2k6hY3ek6dcfFXxDePYizEIt7WCe5v5JobJVt4kNiji1dN6NEyyOG9YooA8q8YfsVfs7/EL4xW/xy8e+G9c1vWbTVLXU7PTtW8caxcaJb31siLb3cejyXZ05LiPy0ZZltxIrqHDb/mqh8Vv2AP2Svjb8Srr4s/En4Wy3uramtkuvwW/iTUbTT9fFo261Gp2FvcJaap5RACfa4ptoAUYAAr2SigDntf+FfgLxT8QPD3xR8Q6D9r1vwpFeJ4euZbqUx2RukWOeVYd3lGYxqYxMVMiRyTIjKs0ofk/gh+x3+zp+zl4r1rxt8HfAEml6jrsfk3Uk+uXt5HbW/ny3H2WziuZpI7C286eWX7PbLFDvctszzXptFABRRRQAUUUUAFFFFABRRRQAUUUUAFFFFAH/9k='></td></tr>"
            ],
            "text/plain": [
              "<IPython.core.display.HTML object>"
            ]
          },
          "metadata": {
            "tags": []
          },
          "execution_count": 21
        }
      ]
    },
    {
      "cell_type": "markdown",
      "metadata": {
        "id": "i3PYn_llTxgA",
        "colab_type": "text"
      },
      "source": [
        "You can download all the analyzed data from `All.xlsx`. A sample of escalated and non-escalated conversations are available in `Escalated_sample.xlsx` and `NotEscalated_sample.xlsx` respectively."
      ]
    },
    {
      "cell_type": "markdown",
      "metadata": {
        "id": "nR3YVl0LTxgB",
        "colab_type": "text"
      },
      "source": [
        "<a id=\"root_cause\"></a>\n",
        "## 7. Root cause analysis of non coverage\n",
        "Let us take a look at the reasons for non-coverage of messages"
      ]
    },
    {
      "cell_type": "code",
      "metadata": {
        "id": "B_xdW5J_TxgB",
        "colab_type": "code",
        "colab": {},
        "outputId": "87f862c3-fc6c-45c5-cf06-97e79bdd1cb2"
      },
      "source": [
        "# Count the causes for non-coverage and store results in dataframe\n",
        "not_covered = pd.DataFrame(df_coverage['Not Covered cause'].value_counts().reset_index())\n",
        "# Name the columns in the dataframe\n",
        "not_covered.columns = ['Messages', 'Total']\n",
        "not_covered"
      ],
      "execution_count": 0,
      "outputs": [
        {
          "output_type": "execute_result",
          "data": {
            "text/html": [
              "<div>\n",
              "<style scoped>\n",
              "    .dataframe tbody tr th:only-of-type {\n",
              "        vertical-align: middle;\n",
              "    }\n",
              "\n",
              "    .dataframe tbody tr th {\n",
              "        vertical-align: top;\n",
              "    }\n",
              "\n",
              "    .dataframe thead th {\n",
              "        text-align: right;\n",
              "    }\n",
              "</style>\n",
              "<table border=\"1\" class=\"dataframe\">\n",
              "  <thead>\n",
              "    <tr style=\"text-align: right;\">\n",
              "      <th></th>\n",
              "      <th>Messages</th>\n",
              "      <th>Total</th>\n",
              "    </tr>\n",
              "  </thead>\n",
              "  <tbody>\n",
              "    <tr>\n",
              "      <th>0</th>\n",
              "      <td>'anything_else' node</td>\n",
              "      <td>724</td>\n",
              "    </tr>\n",
              "    <tr>\n",
              "      <th>1</th>\n",
              "      <td>'#out_of_scope || #off_topic' node</td>\n",
              "      <td>186</td>\n",
              "    </tr>\n",
              "  </tbody>\n",
              "</table>\n",
              "</div>"
            ],
            "text/plain": [
              "                             Messages  Total\n",
              "0                'anything_else' node    724\n",
              "1  '#out_of_scope || #off_topic' node    186"
            ]
          },
          "metadata": {
            "tags": []
          },
          "execution_count": 22
        }
      ]
    },
    {
      "cell_type": "markdown",
      "metadata": {
        "id": "MbGcWRZkTxgG",
        "colab_type": "text"
      },
      "source": [
        "<a id=\"abandoned_resolved_intents\"></a>\n",
        "## 8. Abandoned and resolved intent analysis\n",
        "\n",
        "When users engage in a conversation session, an assistant identifies the intent of each message from the user. Based on the logic flow defined in a dialog tree, the assistant communicates with users and performs actions. The assistant may succeed or fail to satisfy users' intent.  One way to identify patterns of success or failure is by analyzing which intents most often lead to a dialog node associated with resolution, and which intents most often lead to users abandoning the session.  Analyzing resolved and abandoned intents can help you identify issues in your assistant to improve, such as a problematic dialog flow or imprecise intents. In this section, we demonstrate a method of conducting intent analysis using context variables.\n",
        "\n",
        "We introduce two context variables: `response_context_IntentStarted` and `response_context_IntentCompleted`.  You will need to modify your dialog skill definition (workspace) to introduce these variables in your dialog flow.  After you modify your dialog skill definition, your logs will be marked such that when users trigger a conversation with an intent, the assistant will use `response_context_IntentStarted` to record the intent. During the conversation, the assistant will use `response_context_IntentCompleted` to record if the intent is satisfied. Follow the steps below to add the context variables for an intent in your dialog skill definition.\n",
        "\n",
        "1. Open Dialog Overview page, see <a href=\"https://cloud.ibm.com/docs/services/assistant?topic=assistant-dialog-overview\" target=\"_blank\">Dialog Overview</a> for more information.\n",
        "2. Click the entry point node of the dialog node that is associated with the intent you want to analyze\n",
        "3. Open the context editor, see <a href=\"https://cloud.ibm.com/docs/services/assistant?topic=assistant-dialog-runtime#dialog-runtime-context-variables\" target=\"_blank\">Context Variables</a> for more information\n",
        "4. Add `response_context_IntentStarted` as a variable and \\[intent_name\\] as the value\n",
        "5. Follow the dialog flow to locate the satisfying node of the intent\n",
        "6. Open the context editor\n",
        "7. Add `response_context_IntentCompleted` as variable and \\[intent_name\\] as the value\n",
        "8. Repeat step 5-7 to mark all satisfying nodes of the intent if necessary\n",
        "\n",
        "Then repeat the above steps for every intent you want to analyze in this way.\n",
        "\n",
        "After completing the above steps, run the following code for intent analysis. Note that the analysis requires logs generated after the above changes. You will need to reload the updated workspace and logs."
      ]
    },
    {
      "cell_type": "markdown",
      "metadata": {
        "id": "K2l_2LxQTxgH",
        "colab_type": "text"
      },
      "source": [
        "###  8.1 Count of all started intents<a id=\"started_intents\"></a>"
      ]
    },
    {
      "cell_type": "code",
      "metadata": {
        "id": "peBhzoUMTxgH",
        "colab_type": "code",
        "colab": {},
        "outputId": "47dc4b6a-bdd2-4027-fd6f-292455978817"
      },
      "source": [
        "# Define context variables\n",
        "start_intent_variable = 'response_context_IntentStarted'\n",
        "\n",
        "if start_intent_variable in df_formated:\n",
        "    # Group dataframe by conversation_id and start_intent_variable\n",
        "    df_intent_started = df_formated.groupby(['response.context.conversation_id', start_intent_variable]).count().reset_index()\n",
        "    # Refactors data to show only columns of conversation_id and start_intent_variable\n",
        "    df_intent_started = df_intent_started[['response.context.conversation_id', start_intent_variable]]\n",
        "\n",
        "    # Count the number of conversation_ids with each start_intent_variable\n",
        "    intent_started = df_intent_started[start_intent_variable].value_counts().reset_index()\n",
        "    intent_started.columns = ['Intent', 'Count']\n",
        "    display(HTML(intent_started.to_html()))\n",
        "else:\n",
        "    print('Cannot find \\'response_context_IntentStarted\\' and \\'response_context_IntentCompleted\\' in logs. Please check step 4 and make sure updated logs are reloaded.')"
      ],
      "execution_count": 0,
      "outputs": [
        {
          "output_type": "display_data",
          "data": {
            "text/html": [
              "<table border=\"1\" class=\"dataframe\">\n",
              "  <thead>\n",
              "    <tr style=\"text-align: right;\">\n",
              "      <th></th>\n",
              "      <th>Intent</th>\n",
              "      <th>Count</th>\n",
              "    </tr>\n",
              "  </thead>\n",
              "  <tbody>\n",
              "    <tr>\n",
              "      <th>0</th>\n",
              "      <td>locate_amenity</td>\n",
              "      <td>7</td>\n",
              "    </tr>\n",
              "    <tr>\n",
              "      <th>1</th>\n",
              "      <td>turn_on</td>\n",
              "      <td>6</td>\n",
              "    </tr>\n",
              "    <tr>\n",
              "      <th>2</th>\n",
              "      <td>phone</td>\n",
              "      <td>3</td>\n",
              "    </tr>\n",
              "    <tr>\n",
              "      <th>3</th>\n",
              "      <td>turn_up</td>\n",
              "      <td>2</td>\n",
              "    </tr>\n",
              "    <tr>\n",
              "      <th>4</th>\n",
              "      <td>turn_down</td>\n",
              "      <td>1</td>\n",
              "    </tr>\n",
              "    <tr>\n",
              "      <th>5</th>\n",
              "      <td>turn_off</td>\n",
              "      <td>1</td>\n",
              "    </tr>\n",
              "  </tbody>\n",
              "</table>"
            ],
            "text/plain": [
              "<IPython.core.display.HTML object>"
            ]
          },
          "metadata": {
            "tags": []
          }
        }
      ]
    },
    {
      "cell_type": "markdown",
      "metadata": {
        "id": "Hk6qR8UvTxgL",
        "colab_type": "text"
      },
      "source": [
        "###  8.2 Analyze resolved intents<a id=\"resolved_intents\"></a>"
      ]
    },
    {
      "cell_type": "code",
      "metadata": {
        "id": "jk45qup6TxgN",
        "colab_type": "code",
        "colab": {},
        "outputId": "4a97d763-acb5-4ab0-9f4e-a0657354f2dd"
      },
      "source": [
        "end_intent_variable = 'response_context_IntentCompleted'\n",
        "\n",
        "if end_intent_variable in df_formated:\n",
        "\n",
        "    # Group dataframe by conversation_id and end_intent_variable\n",
        "    df_intent_completed = df_formated.groupby(['response.context.conversation_id',end_intent_variable]).count().reset_index()\n",
        "    # Refactor data to show columns of conversation_id and end_intent_variable only\n",
        "    df_intent_completed = df_intent_completed[['response.context.conversation_id',end_intent_variable]]\n",
        "    # Count the number of conversation_ids with each end_intent_variable\n",
        "    intent_completed = df_intent_completed[end_intent_variable].value_counts().reset_index()\n",
        "    intent_completed.columns = ['Intent', 'Count']\n",
        "\n",
        "    # Show counts of resolved intents\n",
        "    intent_completed_title = '\\nCount of resolved intents in all conversations\\n'\n",
        "    print(intent_completed_title, \"=\" * len(intent_completed_title),'', sep = '')\n",
        "    display(HTML(intent_completed.to_html()))\n",
        "\n",
        "    # Convert dataframe to a list\n",
        "    res_intent_list = intent_completed.values.tolist()\n",
        "    # Get list of started intents\n",
        "    all_intent = df_intent_started[start_intent_variable].value_counts().reset_index().values.tolist()\n",
        "\n",
        "    # Loop over resolved intents list. Each element contains a pair of intent and count\n",
        "    data = []\n",
        "    for pair_ab in res_intent_list:\n",
        "        # Loop over each row of started intents. Each row contains a pair of intent and count\n",
        "        for pair_all in all_intent:\n",
        "            # Check if the intent name matches in started and resolved intents\n",
        "            if pair_ab[0] == pair_all[0]:\n",
        "                # Then acccesses the count from that matched intent, and calculate percentage\n",
        "                perc = (pair_ab[1]/pair_all[1])*100\n",
        "                # Add the matched intent name and percentage to data list\n",
        "                data.append([pair_ab[0],perc])\n",
        "\n",
        "    # Create a new dataframe with data list\n",
        "    resolved_percentage = pd.DataFrame(data=data).reset_index(drop=True)\n",
        "\n",
        "    # Format the dataframe, and orders data in descending order (shows highest percentage first)\n",
        "    resolved_percentage.columns = ['Intent','Percentage']\n",
        "    resolved_percentage.sort_values(ascending=False,inplace=True, by='Percentage')\n",
        "    # Format the data in the percentage column to include '%', and 1 decimal point\n",
        "    resolved_percentage['Percentage'] = resolved_percentage['Percentage'].apply(lambda x: \"{0:.1f}%\".format(x))\n",
        "    resolved_percentage.reset_index(drop=True, inplace=True)\n",
        "\n",
        "    # Show most resolved intents\n",
        "    most_resolved_intents = \"\\nMost resolved intents (%)\\n\"\n",
        "    print(most_resolved_intents, \"=\" * len(most_resolved_intents),'', sep = '')\n",
        "    display(HTML(resolved_percentage.to_html()))\n",
        "\n",
        "else:\n",
        "    print('Cannot find \\'response_context_IntentStarted\\' and \\'response_context_IntentCompleted\\' in logs. Please check step 4 and make sure updated logs are reloaded.')\n",
        "    "
      ],
      "execution_count": 0,
      "outputs": [
        {
          "output_type": "stream",
          "text": [
            "\n",
            "Count of resolved intents in all conversations\n",
            "================================================\n"
          ],
          "name": "stdout"
        },
        {
          "output_type": "display_data",
          "data": {
            "text/html": [
              "<table border=\"1\" class=\"dataframe\">\n",
              "  <thead>\n",
              "    <tr style=\"text-align: right;\">\n",
              "      <th></th>\n",
              "      <th>Intent</th>\n",
              "      <th>Count</th>\n",
              "    </tr>\n",
              "  </thead>\n",
              "  <tbody>\n",
              "    <tr>\n",
              "      <th>0</th>\n",
              "      <td>turn_on</td>\n",
              "      <td>5</td>\n",
              "    </tr>\n",
              "    <tr>\n",
              "      <th>1</th>\n",
              "      <td>phone</td>\n",
              "      <td>3</td>\n",
              "    </tr>\n",
              "    <tr>\n",
              "      <th>2</th>\n",
              "      <td>locate_amenity</td>\n",
              "      <td>3</td>\n",
              "    </tr>\n",
              "  </tbody>\n",
              "</table>"
            ],
            "text/plain": [
              "<IPython.core.display.HTML object>"
            ]
          },
          "metadata": {
            "tags": []
          }
        },
        {
          "output_type": "stream",
          "text": [
            "\n",
            "Most resolved intents (%)\n",
            "===========================\n"
          ],
          "name": "stdout"
        },
        {
          "output_type": "display_data",
          "data": {
            "text/html": [
              "<table border=\"1\" class=\"dataframe\">\n",
              "  <thead>\n",
              "    <tr style=\"text-align: right;\">\n",
              "      <th></th>\n",
              "      <th>Intent</th>\n",
              "      <th>Percentage</th>\n",
              "    </tr>\n",
              "  </thead>\n",
              "  <tbody>\n",
              "    <tr>\n",
              "      <th>0</th>\n",
              "      <td>phone</td>\n",
              "      <td>100.0%</td>\n",
              "    </tr>\n",
              "    <tr>\n",
              "      <th>1</th>\n",
              "      <td>turn_on</td>\n",
              "      <td>83.3%</td>\n",
              "    </tr>\n",
              "    <tr>\n",
              "      <th>2</th>\n",
              "      <td>locate_amenity</td>\n",
              "      <td>42.9%</td>\n",
              "    </tr>\n",
              "  </tbody>\n",
              "</table>"
            ],
            "text/plain": [
              "<IPython.core.display.HTML object>"
            ]
          },
          "metadata": {
            "tags": []
          }
        }
      ]
    },
    {
      "cell_type": "markdown",
      "metadata": {
        "id": "zdeQX2-TTxgV",
        "colab_type": "text"
      },
      "source": [
        "###  8.3 Analyze abandoned intents<a id=\"abandoned_intents\"></a>"
      ]
    },
    {
      "cell_type": "code",
      "metadata": {
        "id": "ocm4KpfUTxgW",
        "colab_type": "code",
        "colab": {},
        "outputId": "0b58cdec-efb3-4cfe-96b2-8a947bf7ed1c"
      },
      "source": [
        "if start_intent_variable in df_formated and end_intent_variable in df_formated:\n",
        "\n",
        "    # Create lists of started and end_intent_variable\n",
        "    intent_complete_list = df_intent_completed.values.tolist()\n",
        "    intent_started_list = df_intent_started.values.tolist()\n",
        "\n",
        "    # Looping over completed intents list. Each element contains a pair of conversation id and end_intent_variable\n",
        "    for pair in intent_complete_list:\n",
        "        # Checks if any element is found in list of started intents\n",
        "        if pair in intent_started_list:\n",
        "            # If found, remove that pair from the list of started intents\n",
        "            intent_started_list.remove(pair)\n",
        "\n",
        "    # Create a new dataframe with updated dataset. \n",
        "    # This updated dataset contains intents that have been started but not completed, thus categorised as abandoned\n",
        "    df_intent_abandoned = pd.DataFrame(data=intent_started_list)\n",
        "\n",
        "    # Group each pair (conversation id, intent abandoned), and show number of occurances of each abandoned intent\n",
        "    final_intent_abandoned = df_intent_abandoned[1].value_counts().reset_index()\n",
        "    final_intent_abandoned.columns = ['Intent','Count']\n",
        "\n",
        "    # Show counts of abandoned intents\n",
        "    intent_abandoned_title = '\\nCount of abandoned intents in all conversations\\n'\n",
        "    print(intent_abandoned_title, \"=\" * len(intent_abandoned_title),'', sep = '')\n",
        "    display(HTML(final_intent_abandoned.to_html()))\n",
        "\n",
        "    # Convert dataframe to a list\n",
        "    aban_intent_list = final_intent_abandoned.values.tolist()\n",
        "    # Get list of started intents\n",
        "    all_intent = df_intent_started[start_intent_variable].value_counts().reset_index().values.tolist()\n",
        "\n",
        "    # Loop over resolved intents list. Each element contains a pair of intent and count\n",
        "    data = []\n",
        "    for pair_ab in aban_intent_list:\n",
        "        # Loop over each row of started intents. Each row contains a pair of intent and count\n",
        "        for pair_all in all_intent:\n",
        "            # Check if the intent name matches in started and resolved intents\n",
        "            if pair_ab[0] == pair_all[0]:\n",
        "                # Then acccesse the count from that matched intent, and calculate percentage\n",
        "                perc = (pair_ab[1]/pair_all[1])*100\n",
        "                # Add the matched intent name and percentage to data list\n",
        "                data.append([pair_ab[0],perc])\n",
        "\n",
        "    # Create a new dataframe with data list\n",
        "    abandoned_percentage = pd.DataFrame(data=data).reset_index(drop=True)\n",
        "\n",
        "    # Format the dataframe, and orders data in descending order (shows highest percentage first)\n",
        "    abandoned_percentage.columns = ['Intent','Percentage']\n",
        "    abandoned_percentage.sort_values(ascending=False,inplace=True, by='Percentage')\n",
        "    abandoned_percentage.reset_index(drop=True, inplace=True)\n",
        "\n",
        "    # Format the data in the percentage column to include '%', and 1 decimal point\n",
        "    abandoned_percentage['Percentage'] = abandoned_percentage['Percentage'].apply(lambda x: \"{0:.1f}%\".format(x))\n",
        "\n",
        "    # Show most abandoned intents\n",
        "    most_abandoned_intents = \"\\nMost abandoned intents (%)\\n\"\n",
        "    print(most_abandoned_intents, \"=\" * len(most_abandoned_intents),'', sep = '')\n",
        "    display(HTML(abandoned_percentage.to_html()))\n",
        "\n",
        "else:\n",
        "    print('Cannot find \\'response_context_IntentStarted\\' and \\'response_context_IntentCompleted\\' in logs. Please check step 4 and make sure updated logs are reloaded.')"
      ],
      "execution_count": 0,
      "outputs": [
        {
          "output_type": "stream",
          "text": [
            "\n",
            "Count of abandoned intents in all conversations\n",
            "=================================================\n"
          ],
          "name": "stdout"
        },
        {
          "output_type": "display_data",
          "data": {
            "text/html": [
              "<table border=\"1\" class=\"dataframe\">\n",
              "  <thead>\n",
              "    <tr style=\"text-align: right;\">\n",
              "      <th></th>\n",
              "      <th>Intent</th>\n",
              "      <th>Count</th>\n",
              "    </tr>\n",
              "  </thead>\n",
              "  <tbody>\n",
              "    <tr>\n",
              "      <th>0</th>\n",
              "      <td>locate_amenity</td>\n",
              "      <td>4</td>\n",
              "    </tr>\n",
              "    <tr>\n",
              "      <th>1</th>\n",
              "      <td>turn_on</td>\n",
              "      <td>2</td>\n",
              "    </tr>\n",
              "    <tr>\n",
              "      <th>2</th>\n",
              "      <td>turn_up</td>\n",
              "      <td>2</td>\n",
              "    </tr>\n",
              "    <tr>\n",
              "      <th>3</th>\n",
              "      <td>turn_down</td>\n",
              "      <td>1</td>\n",
              "    </tr>\n",
              "    <tr>\n",
              "      <th>4</th>\n",
              "      <td>turn_off</td>\n",
              "      <td>1</td>\n",
              "    </tr>\n",
              "  </tbody>\n",
              "</table>"
            ],
            "text/plain": [
              "<IPython.core.display.HTML object>"
            ]
          },
          "metadata": {
            "tags": []
          }
        },
        {
          "output_type": "stream",
          "text": [
            "\n",
            "Most abandoned intents (%)\n",
            "============================\n"
          ],
          "name": "stdout"
        },
        {
          "output_type": "display_data",
          "data": {
            "text/html": [
              "<table border=\"1\" class=\"dataframe\">\n",
              "  <thead>\n",
              "    <tr style=\"text-align: right;\">\n",
              "      <th></th>\n",
              "      <th>Intent</th>\n",
              "      <th>Percentage</th>\n",
              "    </tr>\n",
              "  </thead>\n",
              "  <tbody>\n",
              "    <tr>\n",
              "      <th>0</th>\n",
              "      <td>turn_up</td>\n",
              "      <td>100.0%</td>\n",
              "    </tr>\n",
              "    <tr>\n",
              "      <th>1</th>\n",
              "      <td>turn_down</td>\n",
              "      <td>100.0%</td>\n",
              "    </tr>\n",
              "    <tr>\n",
              "      <th>2</th>\n",
              "      <td>turn_off</td>\n",
              "      <td>100.0%</td>\n",
              "    </tr>\n",
              "    <tr>\n",
              "      <th>3</th>\n",
              "      <td>locate_amenity</td>\n",
              "      <td>57.1%</td>\n",
              "    </tr>\n",
              "    <tr>\n",
              "      <th>4</th>\n",
              "      <td>turn_on</td>\n",
              "      <td>33.3%</td>\n",
              "    </tr>\n",
              "  </tbody>\n",
              "</table>"
            ],
            "text/plain": [
              "<IPython.core.display.HTML object>"
            ]
          },
          "metadata": {
            "tags": []
          }
        }
      ]
    },
    {
      "cell_type": "markdown",
      "metadata": {
        "id": "NuFuYDYGTxga",
        "colab_type": "text"
      },
      "source": [
        "Finally, we generate an Excel file that lists all conversations for which there are abandoned and resolved intents for further analysis."
      ]
    },
    {
      "cell_type": "code",
      "metadata": {
        "id": "28tuiG7nTxga",
        "colab_type": "code",
        "colab": {},
        "outputId": "fe5b0b99-ddbf-4104-e30f-4138159a169d"
      },
      "source": [
        "if df_intent_abandoned is not None and df_intent_completed is not None:\n",
        "    \n",
        "    # Rename columns\n",
        "    df_intent_abandoned.columns = ['Conversation_id','Intent']\n",
        "    df_intent_completed.columns = ['Conversation_id','Intent']\n",
        "\n",
        "    # Generate excel file\n",
        "    file_name = 'Abandoned_Resolved.xlsx'\n",
        "    generate_excel_measure([df_intent_abandoned,df_intent_completed], ['Abandoned', 'Resolved'], filename= file_name, project_io=None)\n",
        "    link_html = 'Abandoned and resolved intents: <b><a href={} target=\"_blank\">Abandoned_Resolved.xlsx</a></b>'.format(file_name)\n",
        "\n",
        "    display(HTML(link_html))\n",
        "    \n",
        "else:\n",
        "    print('Cannot find \\'response_context_IntentStarted\\' and \\'response_context_IntentCompleted\\' in logs. Please check step 4 and make sure updated logs are reloaded.')"
      ],
      "execution_count": 0,
      "outputs": [
        {
          "output_type": "display_data",
          "data": {
            "text/html": [
              "Abandoned and resolved intents: <b><a href=Abandoned_Resolved.xlsx target=\"_blank\">Abandoned_Resolved.xlsx</a></b>"
            ],
            "text/plain": [
              "<IPython.core.display.HTML object>"
            ]
          },
          "metadata": {
            "tags": []
          }
        }
      ]
    },
    {
      "cell_type": "markdown",
      "metadata": {
        "id": "VxBxcLRVTxgj",
        "colab_type": "text"
      },
      "source": [
        "<a id=\"summary\"></a>\n",
        "## 9. Summary and next steps\n",
        "\n",
        "The metrics described above help you narrow your immediate focus of improvement. We suggest the following two strategies: \n",
        "\n",
        "- **Toward improving Effectiveness**\n",
        "\n",
        "    We suggest focusing on a group of problematic conversations, e.g., escalated conversations, then performing a deeper analysis on these conversation as follows. <br>\n",
        "    1. Choose to download either the complete conversations ([All.xlsx](#file_list)), or sampled escalated conversations [Escalated_sample.xlsx](#file_list), or non-escalated conversations [NotEscalated_sample.xlsx](#file_list).<br>\n",
        "    2. Perform a manual assessment of these conversations.<br>\n",
        "    3. Analyze the results using our __Analyze Watson Assistant Effectiveness__ Jupyter Notebook.\n",
        "\n",
        "\n",
        "- **Toward improving Coverage**\n",
        "\n",
        "    For utterances where an intent was found but no response was given. We suggest performing a deeper analysis to identify  root causes, e.g., missing entities or lacking of dialog logic. \n",
        "\n",
        "    For utterances where no intent was found, we suggest expanding intent coverage as follows.\n",
        "\n",
        "    1. Examine utterances from the production log, especially focus on the utterances that are below the confidence (0.2 by default).\n",
        "    2. If you set a confidence threshold significantly higher than 0.2, we suggest looking at utterances that are below but close to the threshold.\n",
        "    3. Once you select a collection of utterances, intent expansion, you can focus on intent expansion by two methods:\n",
        "        - One-by-One: examine each utterance to either change to an existing intent or add a new intent.\n",
        "        - Unsupervised Learning: perform semantic clustering to generate utterance clusters; examine each cluster to decide (1) adding utterances of an existing intent or (2) creating a new intent.\n",
        "\n",
        "For more information, please check <a href=\"https://github.com/watson-developer-cloud/assistant-improve-recommendations-notebook/raw/master/notebook/IBM%20Watson%20Assistant%20Continuous%20Improvement%20Best%20Practices.pdf\" target=\"_blank\" rel=\"noopener noreferrer\">Watson Assistant Continuous Improvement Best Practices</a>."
      ]
    },
    {
      "cell_type": "markdown",
      "metadata": {
        "id": "qltWom-bTxgk",
        "colab_type": "text"
      },
      "source": [
        "### <a id=\"authors\"></a>Authors\n",
        "\n",
        "**Zhe Zhang**, Ph.D. in Computer Science, is a Data Scientist for IBM Watson AI. Zhe has a research background in Natural Language Processing, Sentiment Analysis, Text Mining, and Machine Learning. His research has been published at leading  conferences and journals including ACL and EMNLP.\n",
        "\n",
        "**Sherin Varughese** is a Data Scientist for IBM Watson AI. Sherin has her graduate degree in Business Intelligence and Data Analytics and has experience in Data Analysis, Warehousing and Machine Learning."
      ]
    },
    {
      "cell_type": "markdown",
      "metadata": {
        "id": "UxD2T-g0Txgl",
        "colab_type": "text"
      },
      "source": [
        "### <a id=\"acknowledgement\"></a> Acknowledgement\n",
        "\n",
        "The authors would like to thank the following members of the IBM Research and Watson Assistant teams for their contributions and reviews of the notebook:  Matt Arnold, Adam Benvie, Kyle Croutwater, Eric Wayne."
      ]
    },
    {
      "cell_type": "markdown",
      "metadata": {
        "id": "ZmvZraQRTxgm",
        "colab_type": "text"
      },
      "source": [
        "Copyright © 2020 IBM. This notebook and its source code are released under the terms of the MIT License."
      ]
    }
  ]
}